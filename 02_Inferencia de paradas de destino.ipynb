{
 "cells": [
  {
   "cell_type": "markdown",
   "id": "ac91068a",
   "metadata": {},
   "source": [
    "### Librerías necesarias"
   ]
  },
  {
   "cell_type": "code",
   "execution_count": 1,
   "id": "58d30c1b",
   "metadata": {},
   "outputs": [],
   "source": [
    "import pandas as pd\n",
    "import os\n",
    "from geopy.distance import geodesic\n",
    "from tqdm import tqdm"
   ]
  },
  {
   "cell_type": "markdown",
   "id": "dd561a11",
   "metadata": {},
   "source": [
    "### Funciones"
   ]
  },
  {
   "cell_type": "markdown",
   "id": "7627e1c1",
   "metadata": {},
   "source": [
    "- Paradas cercanas."
   ]
  },
  {
   "cell_type": "code",
   "execution_count": 2,
   "id": "3cf82221",
   "metadata": {},
   "outputs": [],
   "source": [
    "def paradas_cercanas_a_validacion(lat_val, lon_val, paradas_linea, umbral):\n",
    "    punto_validacion = (lat_val, lon_val)\n",
    "    paradas_cercanas = []\n",
    "\n",
    "    for _, row in paradas_linea.iterrows():\n",
    "        coord_parada = (row[\"LATITUD\"], row[\"LONGITUD\"])\n",
    "        distancia = geodesic(coord_parada, punto_validacion).meters\n",
    "        if distancia <= umbral:\n",
    "            paradas_cercanas.append({\n",
    "                \"CodigoParada\": int(row[\"CodigoParada\"]),\n",
    "                \"SECUENCIA_GLOBAL\": int(row[\"SECUENCIA_GLOBAL\"]),\n",
    "                \"distancia\": distancia\n",
    "            })\n",
    "\n",
    "    return pd.DataFrame(paradas_cercanas)"
   ]
  },
  {
   "cell_type": "markdown",
   "id": "ed71d76d",
   "metadata": {},
   "source": [
    "- Calcular el tiempo que se demora entre la validación y las paradas candidatas."
   ]
  },
  {
   "cell_type": "code",
   "execution_count": 3,
   "id": "86bf0d99",
   "metadata": {},
   "outputs": [],
   "source": [
    "def calcular_tiempos_para_candidatas(codigo_linea, secuencia_origen, paradas_candidatas, df_tiempos_prom):\n",
    "    resultados = []\n",
    "    df_tiempos_prom[\"CodigoLinea\"] = df_tiempos_prom[\"CodigoLinea\"].astype(int)\n",
    "    df_tiempos_prom[\"SECUENCIA_GLOBAL\"] = df_tiempos_prom[\"SECUENCIA_GLOBAL\"].astype(int)\n",
    "\n",
    "    secuencia_origen = secuencia_origen\n",
    "    \n",
    "    for _, parada in paradas_candidatas.iterrows():\n",
    "        t_i = 0.0\n",
    "        sec_candidata = parada[\"SECUENCIA_GLOBAL\"]\n",
    "        #print(f\" sec_candidata = {sec_candidata}, secuencia_origen = {secuencia_origen}\")\n",
    "\n",
    "        if pd.isna(sec_candidata) or secuencia_origen == sec_candidata:\n",
    "            #print(\" Salta cálculo: secuencia candidata nula o igual al origen\")\n",
    "            t_i = 0.0\n",
    "        else:\n",
    "            #print(\" Entrando a cálculo de t_i\")\n",
    "            sec_min = min(secuencia_origen, sec_candidata)\n",
    "            sec_max = max(secuencia_origen, sec_candidata)\n",
    "            #print(f\" Filtrando tiempos entre secuencia {sec_min} y {sec_max}, línea {codigo_linea}\")\n",
    "\n",
    "            tramos = df_tiempos_prom[\n",
    "                (df_tiempos_prom[\"CodigoLinea\"] == int(codigo_linea)) &\n",
    "                (df_tiempos_prom[\"SECUENCIA_GLOBAL\"] >= int(sec_min)) &\n",
    "                (df_tiempos_prom[\"SECUENCIA_GLOBAL\"] <= int(sec_max))\n",
    "            ]\n",
    "            #print(f\" Tramos encontrados: {len(tramos)}\")\n",
    "            #print(tramos)\n",
    "\n",
    "            t_i = tramos[\"tiempo_medio_min\"].sum()\n",
    "            #print(f\" t_i final = {t_i}\")\n",
    "\n",
    "        parada_resultado = parada.copy()\n",
    "        parada_resultado[\"t_i\"] = t_i\n",
    "        resultados.append(parada_resultado)\n",
    "\n",
    "    resultados = pd.DataFrame(resultados)\n",
    "    resultados[\"CodigoParada\"] = resultados[\"CodigoParada\"].astype(int)\n",
    "    resultados[\"SECUENCIA_GLOBAL\"] = resultados[\"SECUENCIA_GLOBAL\"].astype(int)\n",
    "    return pd.DataFrame(resultados)"
   ]
  },
  {
   "cell_type": "markdown",
   "id": "dded3df2",
   "metadata": {},
   "source": [
    "- Inferir las paradas de descenso"
   ]
  },
  {
   "cell_type": "code",
   "execution_count": 4,
   "id": "37c5c809",
   "metadata": {},
   "outputs": [],
   "source": [
    "def estimar_descensos_usuario(df_afc, df_ejemplo, tiempos_promedio, fw=2, sw=1.2, umbral=500):\n",
    "    resultados = []\n",
    "\n",
    "    df_afc = df_afc.copy()\n",
    "    df_afc[\"CodigoLinea\"] = df_afc[\"CodigoLinea\"].astype(int)\n",
    "    df_afc[\"SECUENCIA_GLOBAL\"] = df_afc[\"SECUENCIA_GLOBAL\"].astype(int)\n",
    "    df_afc[\"CodigoParada\"] = df_afc[\"CodigoParada\"].astype(int)\n",
    "\n",
    "    df_ejemplo.sort_values(by=[\"CodigoTarjeta\", \"Tiempo\"], inplace=True)\n",
    "\n",
    "    for tarjeta, grupo in tqdm(df_ejemplo.groupby(\"CodigoTarjeta\"), desc=\"Procesando tarjetas\"):\n",
    "        grupo = grupo.sort_values(\"Tiempo\").reset_index(drop=True)\n",
    "\n",
    "        for i in range(len(grupo) - 1):\n",
    "            actual = grupo.iloc[i]\n",
    "            siguiente = grupo.iloc[i + 1]\n",
    "\n",
    "            linea = int(actual[\"CodigoLinea\"])\n",
    "            secuencia_origen = int(actual[\"SECUENCIA_GLOBAL\"])\n",
    "            coord_siguiente = (siguiente[\"LATITUD\"], siguiente[\"LONGITUD\"])\n",
    "            #print(linea)\n",
    "\n",
    "            paradas_linea = df_afc[\n",
    "                df_afc[\"CodigoLinea\"] == linea\n",
    "            ][[\"CodigoParada\", \"LATITUD\", \"LONGITUD\", \"SECUENCIA_GLOBAL\"]].drop_duplicates()\n",
    "\n",
    "            candidatas = paradas_cercanas_a_validacion(\n",
    "                coord_siguiente[0],\n",
    "                coord_siguiente[1],\n",
    "                paradas_linea,\n",
    "                umbral=umbral\n",
    "            )\n",
    "            #print(candidatas)\n",
    "\n",
    "            if candidatas.empty:\n",
    "                resultados.append({\n",
    "                    \"CodigoTarjeta\": tarjeta,\n",
    "                    \"ParadaEstimDescenso\": \"No se pudo estimar\",\n",
    "                    \"CodigoLinea\": linea,\n",
    "                    \"ParadaInicial\": actual[\"CodigoParada\"],\n",
    "                    \"ParadaSiguiente\": siguiente[\"CodigoParada\"],\n",
    "                    \"TiempoInicial\": actual[\"Tiempo\"],\n",
    "                    \"TiempoSiguiente\": siguiente[\"Tiempo\"]\n",
    "                })\n",
    "                continue\n",
    "\n",
    "            candidatas_con_ti = calcular_tiempos_para_candidatas(\n",
    "                linea,\n",
    "                secuencia_origen,\n",
    "                candidatas,\n",
    "                tiempos_promedio\n",
    "            )\n",
    "\n",
    "            candidatas_con_ti[\"Tg\"] = candidatas_con_ti[\"t_i\"] + fw * (candidatas_con_ti[\"distancia\"] / sw) / 60\n",
    "\n",
    "            filtro_invalidos = (candidatas_con_ti[\"distancia\"] > 0) & (candidatas_con_ti[\"t_i\"] == 0)\n",
    "            candidatas_validas = candidatas_con_ti[~filtro_invalidos]\n",
    "\n",
    "            if not candidatas_validas.empty:\n",
    "                idx = candidatas_validas[\"Tg\"].idxmin()\n",
    "                mejor_parada = candidatas_validas.loc[idx]\n",
    "            else:\n",
    "                mejor_parada = None\n",
    "\n",
    "            #idx = (candidatas_con_ti[\"t_i\"] + fw * (candidatas_con_ti[\"distancia\"] / sw) / 60).idxmin()\n",
    "            #mejor_parada = candidatas_con_ti.loc[idx] if idx is not None else None\n",
    "\n",
    "            if mejor_parada is not None and not mejor_parada.empty:\n",
    "                tg_i = mejor_parada[\"t_i\"] + fw * (mejor_parada[\"distancia\"] / sw) / 60\n",
    "                resultados.append({\n",
    "                    \"CodigoTarjeta\": tarjeta,\n",
    "                    \"ParadaEstimDescenso\": mejor_parada[\"CodigoParada\"],\n",
    "                    \"Tg\": tg_i,\n",
    "                    \"TiempoBus\": mejor_parada[\"t_i\"],\n",
    "                    \"DistanciaCaminata\": mejor_parada[\"distancia\"],\n",
    "                    \"CodigoLinea\": linea,\n",
    "                    \"ParadaInicial\": actual[\"CodigoParada\"],\n",
    "                    \"ParadaSiguiente\": siguiente[\"CodigoParada\"],\n",
    "                    \"TiempoInicial\": actual[\"Tiempo\"],\n",
    "                    \"TiempoSiguiente\": siguiente[\"Tiempo\"]\n",
    "                })\n",
    "\n",
    "        if len(grupo) > 1:\n",
    "            ultimo = grupo.iloc[-1]\n",
    "            primero = grupo.iloc[0]\n",
    "\n",
    "            linea = int(ultimo[\"CodigoLinea\"])\n",
    "            secuencia_origen = int(ultimo[\"SECUENCIA_GLOBAL\"])\n",
    "            coord_siguiente = (primero[\"LATITUD\"], primero[\"LONGITUD\"])\n",
    "\n",
    "            paradas_linea = df_afc[\n",
    "                df_afc[\"CodigoLinea\"] == linea\n",
    "            ][[\"CodigoParada\", \"LATITUD\", \"LONGITUD\", \"SECUENCIA_GLOBAL\"]].drop_duplicates()\n",
    "\n",
    "            candidatas = paradas_cercanas_a_validacion(\n",
    "                coord_siguiente[0],\n",
    "                coord_siguiente[1],\n",
    "                paradas_linea,\n",
    "                umbral=umbral\n",
    "            )\n",
    "\n",
    "            if candidatas.empty:\n",
    "                resultados.append({\n",
    "                    \"CodigoTarjeta\": tarjeta,\n",
    "                    \"ParadaEstimDescenso\": \"No se pudo estimar (cierre)\",\n",
    "                    \"CodigoLinea\": linea,\n",
    "                    \"ParadaInicial\": ultimo[\"CodigoParada\"],\n",
    "                    \"ParadaSiguiente\": primero[\"CodigoParada\"],\n",
    "                    \"TiempoInicial\": ultimo[\"Tiempo\"],\n",
    "                    \"TiempoSiguiente\": primero[\"Tiempo\"]\n",
    "                })\n",
    "                continue\n",
    "\n",
    "            candidatas_con_ti = calcular_tiempos_para_candidatas(\n",
    "                linea,\n",
    "                secuencia_origen,\n",
    "                candidatas,\n",
    "                tiempos_promedio\n",
    "            )\n",
    "\n",
    "            candidatas_con_ti[\"Tg\"] = candidatas_con_ti[\"t_i\"] + fw * (candidatas_con_ti[\"distancia\"] / sw) / 60\n",
    "\n",
    "            filtro_invalidos = (candidatas_con_ti[\"distancia\"] > 0) & (candidatas_con_ti[\"t_i\"] == 0)\n",
    "            candidatas_validas = candidatas_con_ti[~filtro_invalidos]\n",
    "\n",
    "            if not candidatas_validas.empty:\n",
    "                idx = candidatas_validas[\"Tg\"].idxmin()\n",
    "                mejor_parada = candidatas_validas.loc[idx]\n",
    "            else:\n",
    "                mejor_parada = None\n",
    "\n",
    "\n",
    "            #idx = (candidatas_con_ti[\"t_i\"] + fw * (candidatas_con_ti[\"distancia\"] / sw) / 60).idxmin()\n",
    "            #mejor_parada = candidatas_con_ti.loc[idx] if idx is not None else None\n",
    "\n",
    "            if mejor_parada is not None and not mejor_parada.empty:\n",
    "                tg_i = mejor_parada[\"t_i\"] + fw * (mejor_parada[\"distancia\"] / sw) / 60\n",
    "                resultados.append({\n",
    "                    \"CodigoTarjeta\": tarjeta,\n",
    "                    \"ParadaEstimDescenso\": mejor_parada[\"CodigoParada\"],\n",
    "                    \"Tg\": tg_i,\n",
    "                    \"TiempoBus\": mejor_parada[\"t_i\"],\n",
    "                    \"DistanciaCaminata\": mejor_parada[\"distancia\"],\n",
    "                    \"CodigoLinea\": linea,\n",
    "                    \"ParadaInicial\": ultimo[\"CodigoParada\"],\n",
    "                    \"ParadaSiguiente\": primero[\"CodigoParada\"],\n",
    "                    \"TiempoInicial\": ultimo[\"Tiempo\"],\n",
    "                    \"TiempoSiguiente\": primero[\"Tiempo\"]\n",
    "                })\n",
    "\n",
    "    return pd.DataFrame(resultados)\n"
   ]
  },
  {
   "cell_type": "markdown",
   "id": "6336fa85",
   "metadata": {},
   "source": [
    "### Definir los parámetros para usar la función"
   ]
  },
  {
   "cell_type": "code",
   "execution_count": 2,
   "id": "b5aa5920",
   "metadata": {},
   "outputs": [],
   "source": [
    "afc_25_completo = pd.read_csv(\"C:/Users/JORGE/OneDrive/Desktop/TIC/Base/afc_25_completo.csv\")"
   ]
  },
  {
   "cell_type": "markdown",
   "id": "ef7964fa",
   "metadata": {},
   "source": [
    "- El umbral lo escojemos como el cualtil 90 de la distancia en metros entre las paradas. "
   ]
  },
  {
   "cell_type": "code",
   "execution_count": 3,
   "id": "263dfef9",
   "metadata": {},
   "outputs": [],
   "source": [
    "# Parámetros\n",
    "fw = 2.0\n",
    "sw = 1.2\n",
    "umbral = afc_25_completo['distancia_m'].quantile(0.90)"
   ]
  },
  {
   "cell_type": "code",
   "execution_count": 4,
   "id": "9907b0d6",
   "metadata": {},
   "outputs": [
    {
     "data": {
      "text/plain": [
       "np.float64(468.17)"
      ]
     },
     "execution_count": 4,
     "metadata": {},
     "output_type": "execute_result"
    }
   ],
   "source": [
    "umbral"
   ]
  },
  {
   "cell_type": "markdown",
   "id": "ca40ff95",
   "metadata": {},
   "source": [
    "- Tiempo promedio"
   ]
  },
  {
   "cell_type": "code",
   "execution_count": 7,
   "id": "175a48d4",
   "metadata": {},
   "outputs": [],
   "source": [
    "tiempos_promedio = (\n",
    "    afc_25_completo\n",
    "    .groupby(['CodigoLinea', 'SECUENCIA_GLOBAL'], as_index=False)\n",
    "    .agg(tiempo_medio_min=('tiempo_estimado_min', 'mean'))\n",
    ")\n",
    "\n",
    "# Seleccionar columnas necesarias para el merge\n",
    "df_secuencia = afc_25_completo[[\"CodigoLinea\", \"SECUENCIA_GLOBAL\", \"SECUENCIA\"]].drop_duplicates()\n",
    "\n",
    "# Asegurar tipos compatibles\n",
    "df_secuencia[\"CodigoLinea\"] = df_secuencia[\"CodigoLinea\"].astype(int)\n",
    "df_secuencia[\"SECUENCIA_GLOBAL\"] = df_secuencia[\"SECUENCIA_GLOBAL\"].astype(int)\n",
    "tiempos_promedio[\"CodigoLinea\"] = tiempos_promedio[\"CodigoLinea\"].astype(int)\n",
    "tiempos_promedio[\"SECUENCIA_GLOBAL\"] = tiempos_promedio[\"SECUENCIA_GLOBAL\"].astype(int)\n",
    "\n",
    "# Merge\n",
    "tiempos_promedio = tiempos_promedio.merge(df_secuencia, on=[\"CodigoLinea\", \"SECUENCIA_GLOBAL\"], how=\"left\")"
   ]
  },
  {
   "cell_type": "markdown",
   "id": "b19dbe47",
   "metadata": {},
   "source": [
    "- Ejemplo de aplicación"
   ]
  },
  {
   "cell_type": "code",
   "execution_count": 8,
   "id": "8175f215",
   "metadata": {},
   "outputs": [],
   "source": [
    "usuario = \"CURA0010274756\"\n",
    "df_ejemplo = afc_25_completo[afc_25_completo[\"CodigoTarjeta\"] == usuario].copy()"
   ]
  },
  {
   "cell_type": "code",
   "execution_count": 11,
   "id": "12a5eba8",
   "metadata": {},
   "outputs": [
    {
     "name": "stderr",
     "output_type": "stream",
     "text": [
      "Procesando tarjetas: 100%|██████████| 1/1 [00:00<00:00,  4.60it/s]\n"
     ]
    }
   ],
   "source": [
    "resultado_usuario = estimar_descensos_usuario(\n",
    "    afc_25_completo, \n",
    "    df_ejemplo, \n",
    "    tiempos_promedio, \n",
    "    fw=2, \n",
    "    sw=1.2, \n",
    "    umbral=umbral\n",
    ")"
   ]
  },
  {
   "cell_type": "code",
   "execution_count": 12,
   "id": "84705e56",
   "metadata": {},
   "outputs": [
    {
     "data": {
      "text/html": [
       "<div>\n",
       "<style scoped>\n",
       "    .dataframe tbody tr th:only-of-type {\n",
       "        vertical-align: middle;\n",
       "    }\n",
       "\n",
       "    .dataframe tbody tr th {\n",
       "        vertical-align: top;\n",
       "    }\n",
       "\n",
       "    .dataframe thead th {\n",
       "        text-align: right;\n",
       "    }\n",
       "</style>\n",
       "<table border=\"1\" class=\"dataframe\">\n",
       "  <thead>\n",
       "    <tr style=\"text-align: right;\">\n",
       "      <th></th>\n",
       "      <th>CodigoTarjeta</th>\n",
       "      <th>ParadaEstimDescenso</th>\n",
       "      <th>Tg</th>\n",
       "      <th>TiempoBus</th>\n",
       "      <th>DistanciaCaminata</th>\n",
       "      <th>CodigoLinea</th>\n",
       "      <th>ParadaInicial</th>\n",
       "      <th>ParadaSiguiente</th>\n",
       "      <th>TiempoInicial</th>\n",
       "      <th>TiempoSiguiente</th>\n",
       "    </tr>\n",
       "  </thead>\n",
       "  <tbody>\n",
       "    <tr>\n",
       "      <th>0</th>\n",
       "      <td>CURA0010274756</td>\n",
       "      <td>1772.0</td>\n",
       "      <td>0.000000</td>\n",
       "      <td>0.000000</td>\n",
       "      <td>0.000000</td>\n",
       "      <td>2004</td>\n",
       "      <td>1772</td>\n",
       "      <td>1772</td>\n",
       "      <td>14:43:54</td>\n",
       "      <td>14:43:57</td>\n",
       "    </tr>\n",
       "    <tr>\n",
       "      <th>1</th>\n",
       "      <td>CURA0010274756</td>\n",
       "      <td>2019.0</td>\n",
       "      <td>13.960663</td>\n",
       "      <td>2.761273</td>\n",
       "      <td>403.178022</td>\n",
       "      <td>2004</td>\n",
       "      <td>1772</td>\n",
       "      <td>4499</td>\n",
       "      <td>14:43:57</td>\n",
       "      <td>18:02:27</td>\n",
       "    </tr>\n",
       "    <tr>\n",
       "      <th>2</th>\n",
       "      <td>CURA0010274756</td>\n",
       "      <td>4499.0</td>\n",
       "      <td>0.000000</td>\n",
       "      <td>0.000000</td>\n",
       "      <td>0.000000</td>\n",
       "      <td>5002</td>\n",
       "      <td>4499</td>\n",
       "      <td>4499</td>\n",
       "      <td>18:02:27</td>\n",
       "      <td>18:02:30</td>\n",
       "    </tr>\n",
       "    <tr>\n",
       "      <th>3</th>\n",
       "      <td>CURA0010274756</td>\n",
       "      <td>1701.0</td>\n",
       "      <td>23.517826</td>\n",
       "      <td>11.002393</td>\n",
       "      <td>450.555579</td>\n",
       "      <td>5002</td>\n",
       "      <td>4499</td>\n",
       "      <td>1948</td>\n",
       "      <td>18:02:30</td>\n",
       "      <td>18:51:38</td>\n",
       "    </tr>\n",
       "    <tr>\n",
       "      <th>4</th>\n",
       "      <td>CURA0010274756</td>\n",
       "      <td>1948.0</td>\n",
       "      <td>0.000000</td>\n",
       "      <td>0.000000</td>\n",
       "      <td>0.000000</td>\n",
       "      <td>6002</td>\n",
       "      <td>1948</td>\n",
       "      <td>1948</td>\n",
       "      <td>18:51:38</td>\n",
       "      <td>18:51:41</td>\n",
       "    </tr>\n",
       "  </tbody>\n",
       "</table>\n",
       "</div>"
      ],
      "text/plain": [
       "    CodigoTarjeta  ParadaEstimDescenso         Tg  TiempoBus  \\\n",
       "0  CURA0010274756               1772.0   0.000000   0.000000   \n",
       "1  CURA0010274756               2019.0  13.960663   2.761273   \n",
       "2  CURA0010274756               4499.0   0.000000   0.000000   \n",
       "3  CURA0010274756               1701.0  23.517826  11.002393   \n",
       "4  CURA0010274756               1948.0   0.000000   0.000000   \n",
       "\n",
       "   DistanciaCaminata  CodigoLinea  ParadaInicial  ParadaSiguiente  \\\n",
       "0           0.000000         2004           1772             1772   \n",
       "1         403.178022         2004           1772             4499   \n",
       "2           0.000000         5002           4499             4499   \n",
       "3         450.555579         5002           4499             1948   \n",
       "4           0.000000         6002           1948             1948   \n",
       "\n",
       "  TiempoInicial TiempoSiguiente  \n",
       "0      14:43:54        14:43:57  \n",
       "1      14:43:57        18:02:27  \n",
       "2      18:02:27        18:02:30  \n",
       "3      18:02:30        18:51:38  \n",
       "4      18:51:38        18:51:41  "
      ]
     },
     "execution_count": 12,
     "metadata": {},
     "output_type": "execute_result"
    }
   ],
   "source": [
    "resultado_usuario"
   ]
  },
  {
   "cell_type": "markdown",
   "id": "4ef6d6fd",
   "metadata": {},
   "source": [
    "### Estimar las paradas de desenso para la base dividida en 1, 2, 3, 4, 5 y 6 validaciones"
   ]
  },
  {
   "cell_type": "code",
   "execution_count": 17,
   "id": "62a1560d",
   "metadata": {},
   "outputs": [],
   "source": [
    "ruta_carpeta = \"C:/Users/JORGE/OneDrive/Desktop/TIC/Inferencia_destinos\"\n",
    "os.makedirs(ruta_carpeta, exist_ok=True)"
   ]
  },
  {
   "cell_type": "markdown",
   "id": "d6fa9792",
   "metadata": {},
   "source": [
    "- Dos validaciones"
   ]
  },
  {
   "cell_type": "code",
   "execution_count": 18,
   "id": "76fb0e91",
   "metadata": {},
   "outputs": [],
   "source": [
    "conteo = afc_25_completo[\"CodigoTarjeta\"].value_counts()\n",
    "aux = conteo[conteo == 2].index\n",
    "afc_25_2 = afc_25_completo[afc_25_completo['CodigoTarjeta'].isin(aux)].copy()"
   ]
  },
  {
   "cell_type": "code",
   "execution_count": 19,
   "id": "b5a64573",
   "metadata": {},
   "outputs": [
    {
     "name": "stderr",
     "output_type": "stream",
     "text": [
      "Procesando tarjetas: 100%|██████████| 52923/52923 [9:45:35<00:00,  1.51it/s]       \n"
     ]
    }
   ],
   "source": [
    "df_descensos_estimados_2 = estimar_descensos_usuario(\n",
    "    afc_25_completo, \n",
    "    afc_25_2, \n",
    "    tiempos_promedio, \n",
    "    fw=2, \n",
    "    sw=1.2, \n",
    "    umbral=umbral\n",
    ")"
   ]
  },
  {
   "cell_type": "code",
   "execution_count": 20,
   "id": "f7e5f542",
   "metadata": {},
   "outputs": [],
   "source": [
    "df_descensos_estimados_2.to_csv(os.path.join(ruta_carpeta, \"2_val_usuario.csv\"), index=False)\n",
    "df_descensos_estimados_2.to_excel(os.path.join(ruta_carpeta, \"descensos_usuario_2.xlsx\"), index=False)"
   ]
  },
  {
   "cell_type": "markdown",
   "id": "0f9c5c48",
   "metadata": {},
   "source": [
    "- Tres validaciones"
   ]
  },
  {
   "cell_type": "code",
   "execution_count": 21,
   "id": "363ec8d9",
   "metadata": {},
   "outputs": [],
   "source": [
    "conteo = afc_25_completo[\"CodigoTarjeta\"].value_counts()\n",
    "aux = conteo[conteo == 3].index\n",
    "afc_25_3 = afc_25_completo[afc_25_completo['CodigoTarjeta'].isin(aux)].copy()"
   ]
  },
  {
   "cell_type": "code",
   "execution_count": 22,
   "id": "9ef778c5",
   "metadata": {},
   "outputs": [
    {
     "name": "stderr",
     "output_type": "stream",
     "text": [
      "Procesando tarjetas:  32%|███▏      | 6812/21303 [25:37<54:29,  4.43it/s]  \n"
     ]
    },
    {
     "ename": "KeyboardInterrupt",
     "evalue": "",
     "output_type": "error",
     "traceback": [
      "\u001b[31m---------------------------------------------------------------------------\u001b[39m",
      "\u001b[31mKeyboardInterrupt\u001b[39m                         Traceback (most recent call last)",
      "\u001b[36mCell\u001b[39m\u001b[36m \u001b[39m\u001b[32mIn[22]\u001b[39m\u001b[32m, line 1\u001b[39m\n\u001b[32m----> \u001b[39m\u001b[32m1\u001b[39m df_descensos_estimados_3 = \u001b[43mestimar_descensos_usuario\u001b[49m\u001b[43m(\u001b[49m\n\u001b[32m      2\u001b[39m \u001b[43m    \u001b[49m\u001b[43mafc_25_completo\u001b[49m\u001b[43m,\u001b[49m\u001b[43m \u001b[49m\n\u001b[32m      3\u001b[39m \u001b[43m    \u001b[49m\u001b[43mafc_25_3\u001b[49m\u001b[43m,\u001b[49m\u001b[43m \u001b[49m\n\u001b[32m      4\u001b[39m \u001b[43m    \u001b[49m\u001b[43mtiempos_promedio\u001b[49m\u001b[43m,\u001b[49m\u001b[43m \u001b[49m\n\u001b[32m      5\u001b[39m \u001b[43m    \u001b[49m\u001b[43mfw\u001b[49m\u001b[43m=\u001b[49m\u001b[32;43m2\u001b[39;49m\u001b[43m,\u001b[49m\u001b[43m \u001b[49m\n\u001b[32m      6\u001b[39m \u001b[43m    \u001b[49m\u001b[43msw\u001b[49m\u001b[43m=\u001b[49m\u001b[32;43m1.2\u001b[39;49m\u001b[43m,\u001b[49m\u001b[43m \u001b[49m\n\u001b[32m      7\u001b[39m \u001b[43m    \u001b[49m\u001b[43mumbral\u001b[49m\u001b[43m=\u001b[49m\u001b[43mumbral\u001b[49m\n\u001b[32m      8\u001b[39m \u001b[43m)\u001b[49m\n",
      "\u001b[36mCell\u001b[39m\u001b[36m \u001b[39m\u001b[32mIn[4]\u001b[39m\u001b[32m, line 23\u001b[39m, in \u001b[36mestimar_descensos_usuario\u001b[39m\u001b[34m(df_afc, df_ejemplo, tiempos_promedio, fw, sw, umbral)\u001b[39m\n\u001b[32m     20\u001b[39m coord_siguiente = (siguiente[\u001b[33m\"\u001b[39m\u001b[33mLATITUD\u001b[39m\u001b[33m\"\u001b[39m], siguiente[\u001b[33m\"\u001b[39m\u001b[33mLONGITUD\u001b[39m\u001b[33m\"\u001b[39m])\n\u001b[32m     21\u001b[39m \u001b[38;5;66;03m#print(linea)\u001b[39;00m\n\u001b[32m---> \u001b[39m\u001b[32m23\u001b[39m paradas_linea = \u001b[43mdf_afc\u001b[49m\u001b[43m[\u001b[49m\n\u001b[32m     24\u001b[39m \u001b[43m    \u001b[49m\u001b[43mdf_afc\u001b[49m\u001b[43m[\u001b[49m\u001b[33;43m\"\u001b[39;49m\u001b[33;43mCodigoLinea\u001b[39;49m\u001b[33;43m\"\u001b[39;49m\u001b[43m]\u001b[49m\u001b[43m \u001b[49m\u001b[43m==\u001b[49m\u001b[43m \u001b[49m\u001b[43mlinea\u001b[49m\n\u001b[32m     25\u001b[39m \u001b[43m\u001b[49m\u001b[43m]\u001b[49m[[\u001b[33m\"\u001b[39m\u001b[33mCodigoParada\u001b[39m\u001b[33m\"\u001b[39m, \u001b[33m\"\u001b[39m\u001b[33mLATITUD\u001b[39m\u001b[33m\"\u001b[39m, \u001b[33m\"\u001b[39m\u001b[33mLONGITUD\u001b[39m\u001b[33m\"\u001b[39m, \u001b[33m\"\u001b[39m\u001b[33mSECUENCIA_GLOBAL\u001b[39m\u001b[33m\"\u001b[39m]].drop_duplicates()\n\u001b[32m     27\u001b[39m candidatas = paradas_cercanas_a_validacion(\n\u001b[32m     28\u001b[39m     coord_siguiente[\u001b[32m0\u001b[39m],\n\u001b[32m     29\u001b[39m     coord_siguiente[\u001b[32m1\u001b[39m],\n\u001b[32m     30\u001b[39m     paradas_linea,\n\u001b[32m     31\u001b[39m     umbral=umbral\n\u001b[32m     32\u001b[39m )\n\u001b[32m     33\u001b[39m \u001b[38;5;66;03m#print(candidatas)\u001b[39;00m\n",
      "\u001b[36mFile \u001b[39m\u001b[32mc:\\Users\\JORGE\\OneDrive\\Desktop\\TIC\\venv\\Lib\\site-packages\\pandas\\core\\frame.py:4093\u001b[39m, in \u001b[36mDataFrame.__getitem__\u001b[39m\u001b[34m(self, key)\u001b[39m\n\u001b[32m   4091\u001b[39m \u001b[38;5;66;03m# Do we have a (boolean) 1d indexer?\u001b[39;00m\n\u001b[32m   4092\u001b[39m \u001b[38;5;28;01mif\u001b[39;00m com.is_bool_indexer(key):\n\u001b[32m-> \u001b[39m\u001b[32m4093\u001b[39m     \u001b[38;5;28;01mreturn\u001b[39;00m \u001b[38;5;28;43mself\u001b[39;49m\u001b[43m.\u001b[49m\u001b[43m_getitem_bool_array\u001b[49m\u001b[43m(\u001b[49m\u001b[43mkey\u001b[49m\u001b[43m)\u001b[49m\n\u001b[32m   4095\u001b[39m \u001b[38;5;66;03m# We are left with two options: a single key, and a collection of keys,\u001b[39;00m\n\u001b[32m   4096\u001b[39m \u001b[38;5;66;03m# We interpret tuples as collections only for non-MultiIndex\u001b[39;00m\n\u001b[32m   4097\u001b[39m is_single_key = \u001b[38;5;28misinstance\u001b[39m(key, \u001b[38;5;28mtuple\u001b[39m) \u001b[38;5;129;01mor\u001b[39;00m \u001b[38;5;129;01mnot\u001b[39;00m is_list_like(key)\n",
      "\u001b[36mFile \u001b[39m\u001b[32mc:\\Users\\JORGE\\OneDrive\\Desktop\\TIC\\venv\\Lib\\site-packages\\pandas\\core\\frame.py:4155\u001b[39m, in \u001b[36mDataFrame._getitem_bool_array\u001b[39m\u001b[34m(self, key)\u001b[39m\n\u001b[32m   4152\u001b[39m     \u001b[38;5;28;01mreturn\u001b[39;00m \u001b[38;5;28mself\u001b[39m.copy(deep=\u001b[38;5;28;01mNone\u001b[39;00m)\n\u001b[32m   4154\u001b[39m indexer = key.nonzero()[\u001b[32m0\u001b[39m]\n\u001b[32m-> \u001b[39m\u001b[32m4155\u001b[39m \u001b[38;5;28;01mreturn\u001b[39;00m \u001b[38;5;28;43mself\u001b[39;49m\u001b[43m.\u001b[49m\u001b[43m_take_with_is_copy\u001b[49m\u001b[43m(\u001b[49m\u001b[43mindexer\u001b[49m\u001b[43m,\u001b[49m\u001b[43m \u001b[49m\u001b[43maxis\u001b[49m\u001b[43m=\u001b[49m\u001b[32;43m0\u001b[39;49m\u001b[43m)\u001b[49m\n",
      "\u001b[36mFile \u001b[39m\u001b[32mc:\\Users\\JORGE\\OneDrive\\Desktop\\TIC\\venv\\Lib\\site-packages\\pandas\\core\\generic.py:4153\u001b[39m, in \u001b[36mNDFrame._take_with_is_copy\u001b[39m\u001b[34m(self, indices, axis)\u001b[39m\n\u001b[32m   4142\u001b[39m \u001b[38;5;129m@final\u001b[39m\n\u001b[32m   4143\u001b[39m \u001b[38;5;28;01mdef\u001b[39;00m\u001b[38;5;250m \u001b[39m\u001b[34m_take_with_is_copy\u001b[39m(\u001b[38;5;28mself\u001b[39m, indices, axis: Axis = \u001b[32m0\u001b[39m) -> Self:\n\u001b[32m   4144\u001b[39m \u001b[38;5;250m    \u001b[39m\u001b[33;03m\"\"\"\u001b[39;00m\n\u001b[32m   4145\u001b[39m \u001b[33;03m    Internal version of the `take` method that sets the `_is_copy`\u001b[39;00m\n\u001b[32m   4146\u001b[39m \u001b[33;03m    attribute to keep track of the parent dataframe (using in indexing\u001b[39;00m\n\u001b[32m   (...)\u001b[39m\u001b[32m   4151\u001b[39m \u001b[33;03m    See the docstring of `take` for full explanation of the parameters.\u001b[39;00m\n\u001b[32m   4152\u001b[39m \u001b[33;03m    \"\"\"\u001b[39;00m\n\u001b[32m-> \u001b[39m\u001b[32m4153\u001b[39m     result = \u001b[38;5;28;43mself\u001b[39;49m\u001b[43m.\u001b[49m\u001b[43mtake\u001b[49m\u001b[43m(\u001b[49m\u001b[43mindices\u001b[49m\u001b[43m=\u001b[49m\u001b[43mindices\u001b[49m\u001b[43m,\u001b[49m\u001b[43m \u001b[49m\u001b[43maxis\u001b[49m\u001b[43m=\u001b[49m\u001b[43maxis\u001b[49m\u001b[43m)\u001b[49m\n\u001b[32m   4154\u001b[39m     \u001b[38;5;66;03m# Maybe set copy if we didn't actually change the index.\u001b[39;00m\n\u001b[32m   4155\u001b[39m     \u001b[38;5;28;01mif\u001b[39;00m \u001b[38;5;28mself\u001b[39m.ndim == \u001b[32m2\u001b[39m \u001b[38;5;129;01mand\u001b[39;00m \u001b[38;5;129;01mnot\u001b[39;00m result._get_axis(axis).equals(\u001b[38;5;28mself\u001b[39m._get_axis(axis)):\n",
      "\u001b[36mFile \u001b[39m\u001b[32mc:\\Users\\JORGE\\OneDrive\\Desktop\\TIC\\venv\\Lib\\site-packages\\pandas\\core\\generic.py:4133\u001b[39m, in \u001b[36mNDFrame.take\u001b[39m\u001b[34m(self, indices, axis, **kwargs)\u001b[39m\n\u001b[32m   4128\u001b[39m     \u001b[38;5;66;03m# We can get here with a slice via DataFrame.__getitem__\u001b[39;00m\n\u001b[32m   4129\u001b[39m     indices = np.arange(\n\u001b[32m   4130\u001b[39m         indices.start, indices.stop, indices.step, dtype=np.intp\n\u001b[32m   4131\u001b[39m     )\n\u001b[32m-> \u001b[39m\u001b[32m4133\u001b[39m new_data = \u001b[38;5;28;43mself\u001b[39;49m\u001b[43m.\u001b[49m\u001b[43m_mgr\u001b[49m\u001b[43m.\u001b[49m\u001b[43mtake\u001b[49m\u001b[43m(\u001b[49m\n\u001b[32m   4134\u001b[39m \u001b[43m    \u001b[49m\u001b[43mindices\u001b[49m\u001b[43m,\u001b[49m\n\u001b[32m   4135\u001b[39m \u001b[43m    \u001b[49m\u001b[43maxis\u001b[49m\u001b[43m=\u001b[49m\u001b[38;5;28;43mself\u001b[39;49m\u001b[43m.\u001b[49m\u001b[43m_get_block_manager_axis\u001b[49m\u001b[43m(\u001b[49m\u001b[43maxis\u001b[49m\u001b[43m)\u001b[49m\u001b[43m,\u001b[49m\n\u001b[32m   4136\u001b[39m \u001b[43m    \u001b[49m\u001b[43mverify\u001b[49m\u001b[43m=\u001b[49m\u001b[38;5;28;43;01mTrue\u001b[39;49;00m\u001b[43m,\u001b[49m\n\u001b[32m   4137\u001b[39m \u001b[43m\u001b[49m\u001b[43m)\u001b[49m\n\u001b[32m   4138\u001b[39m \u001b[38;5;28;01mreturn\u001b[39;00m \u001b[38;5;28mself\u001b[39m._constructor_from_mgr(new_data, axes=new_data.axes).__finalize__(\n\u001b[32m   4139\u001b[39m     \u001b[38;5;28mself\u001b[39m, method=\u001b[33m\"\u001b[39m\u001b[33mtake\u001b[39m\u001b[33m\"\u001b[39m\n\u001b[32m   4140\u001b[39m )\n",
      "\u001b[36mFile \u001b[39m\u001b[32mc:\\Users\\JORGE\\OneDrive\\Desktop\\TIC\\venv\\Lib\\site-packages\\pandas\\core\\internals\\managers.py:894\u001b[39m, in \u001b[36mBaseBlockManager.take\u001b[39m\u001b[34m(self, indexer, axis, verify)\u001b[39m\n\u001b[32m    891\u001b[39m indexer = maybe_convert_indices(indexer, n, verify=verify)\n\u001b[32m    893\u001b[39m new_labels = \u001b[38;5;28mself\u001b[39m.axes[axis].take(indexer)\n\u001b[32m--> \u001b[39m\u001b[32m894\u001b[39m \u001b[38;5;28;01mreturn\u001b[39;00m \u001b[38;5;28;43mself\u001b[39;49m\u001b[43m.\u001b[49m\u001b[43mreindex_indexer\u001b[49m\u001b[43m(\u001b[49m\n\u001b[32m    895\u001b[39m \u001b[43m    \u001b[49m\u001b[43mnew_axis\u001b[49m\u001b[43m=\u001b[49m\u001b[43mnew_labels\u001b[49m\u001b[43m,\u001b[49m\n\u001b[32m    896\u001b[39m \u001b[43m    \u001b[49m\u001b[43mindexer\u001b[49m\u001b[43m=\u001b[49m\u001b[43mindexer\u001b[49m\u001b[43m,\u001b[49m\n\u001b[32m    897\u001b[39m \u001b[43m    \u001b[49m\u001b[43maxis\u001b[49m\u001b[43m=\u001b[49m\u001b[43maxis\u001b[49m\u001b[43m,\u001b[49m\n\u001b[32m    898\u001b[39m \u001b[43m    \u001b[49m\u001b[43mallow_dups\u001b[49m\u001b[43m=\u001b[49m\u001b[38;5;28;43;01mTrue\u001b[39;49;00m\u001b[43m,\u001b[49m\n\u001b[32m    899\u001b[39m \u001b[43m    \u001b[49m\u001b[43mcopy\u001b[49m\u001b[43m=\u001b[49m\u001b[38;5;28;43;01mNone\u001b[39;49;00m\u001b[43m,\u001b[49m\n\u001b[32m    900\u001b[39m \u001b[43m\u001b[49m\u001b[43m)\u001b[49m\n",
      "\u001b[36mFile \u001b[39m\u001b[32mc:\\Users\\JORGE\\OneDrive\\Desktop\\TIC\\venv\\Lib\\site-packages\\pandas\\core\\internals\\managers.py:688\u001b[39m, in \u001b[36mBaseBlockManager.reindex_indexer\u001b[39m\u001b[34m(self, new_axis, indexer, axis, fill_value, allow_dups, copy, only_slice, use_na_proxy)\u001b[39m\n\u001b[32m    680\u001b[39m     new_blocks = \u001b[38;5;28mself\u001b[39m._slice_take_blocks_ax0(\n\u001b[32m    681\u001b[39m         indexer,\n\u001b[32m    682\u001b[39m         fill_value=fill_value,\n\u001b[32m    683\u001b[39m         only_slice=only_slice,\n\u001b[32m    684\u001b[39m         use_na_proxy=use_na_proxy,\n\u001b[32m    685\u001b[39m     )\n\u001b[32m    686\u001b[39m \u001b[38;5;28;01melse\u001b[39;00m:\n\u001b[32m    687\u001b[39m     new_blocks = [\n\u001b[32m--> \u001b[39m\u001b[32m688\u001b[39m         \u001b[43mblk\u001b[49m\u001b[43m.\u001b[49m\u001b[43mtake_nd\u001b[49m\u001b[43m(\u001b[49m\n\u001b[32m    689\u001b[39m \u001b[43m            \u001b[49m\u001b[43mindexer\u001b[49m\u001b[43m,\u001b[49m\n\u001b[32m    690\u001b[39m \u001b[43m            \u001b[49m\u001b[43maxis\u001b[49m\u001b[43m=\u001b[49m\u001b[32;43m1\u001b[39;49m\u001b[43m,\u001b[49m\n\u001b[32m    691\u001b[39m \u001b[43m            \u001b[49m\u001b[43mfill_value\u001b[49m\u001b[43m=\u001b[49m\u001b[43m(\u001b[49m\n\u001b[32m    692\u001b[39m \u001b[43m                \u001b[49m\u001b[43mfill_value\u001b[49m\u001b[43m \u001b[49m\u001b[38;5;28;43;01mif\u001b[39;49;00m\u001b[43m \u001b[49m\u001b[43mfill_value\u001b[49m\u001b[43m \u001b[49m\u001b[38;5;129;43;01mis\u001b[39;49;00m\u001b[43m \u001b[49m\u001b[38;5;129;43;01mnot\u001b[39;49;00m\u001b[43m \u001b[49m\u001b[38;5;28;43;01mNone\u001b[39;49;00m\u001b[43m \u001b[49m\u001b[38;5;28;43;01melse\u001b[39;49;00m\u001b[43m \u001b[49m\u001b[43mblk\u001b[49m\u001b[43m.\u001b[49m\u001b[43mfill_value\u001b[49m\n\u001b[32m    693\u001b[39m \u001b[43m            \u001b[49m\u001b[43m)\u001b[49m\u001b[43m,\u001b[49m\n\u001b[32m    694\u001b[39m \u001b[43m        \u001b[49m\u001b[43m)\u001b[49m\n\u001b[32m    695\u001b[39m         \u001b[38;5;28;01mfor\u001b[39;00m blk \u001b[38;5;129;01min\u001b[39;00m \u001b[38;5;28mself\u001b[39m.blocks\n\u001b[32m    696\u001b[39m     ]\n\u001b[32m    698\u001b[39m new_axes = \u001b[38;5;28mlist\u001b[39m(\u001b[38;5;28mself\u001b[39m.axes)\n\u001b[32m    699\u001b[39m new_axes[axis] = new_axis\n",
      "\u001b[36mFile \u001b[39m\u001b[32mc:\\Users\\JORGE\\OneDrive\\Desktop\\TIC\\venv\\Lib\\site-packages\\pandas\\core\\internals\\blocks.py:1307\u001b[39m, in \u001b[36mBlock.take_nd\u001b[39m\u001b[34m(self, indexer, axis, new_mgr_locs, fill_value)\u001b[39m\n\u001b[32m   1304\u001b[39m     allow_fill = \u001b[38;5;28;01mTrue\u001b[39;00m\n\u001b[32m   1306\u001b[39m \u001b[38;5;66;03m# Note: algos.take_nd has upcast logic similar to coerce_to_target_dtype\u001b[39;00m\n\u001b[32m-> \u001b[39m\u001b[32m1307\u001b[39m new_values = \u001b[43malgos\u001b[49m\u001b[43m.\u001b[49m\u001b[43mtake_nd\u001b[49m\u001b[43m(\u001b[49m\n\u001b[32m   1308\u001b[39m \u001b[43m    \u001b[49m\u001b[43mvalues\u001b[49m\u001b[43m,\u001b[49m\u001b[43m \u001b[49m\u001b[43mindexer\u001b[49m\u001b[43m,\u001b[49m\u001b[43m \u001b[49m\u001b[43maxis\u001b[49m\u001b[43m=\u001b[49m\u001b[43maxis\u001b[49m\u001b[43m,\u001b[49m\u001b[43m \u001b[49m\u001b[43mallow_fill\u001b[49m\u001b[43m=\u001b[49m\u001b[43mallow_fill\u001b[49m\u001b[43m,\u001b[49m\u001b[43m \u001b[49m\u001b[43mfill_value\u001b[49m\u001b[43m=\u001b[49m\u001b[43mfill_value\u001b[49m\n\u001b[32m   1309\u001b[39m \u001b[43m\u001b[49m\u001b[43m)\u001b[49m\n\u001b[32m   1311\u001b[39m \u001b[38;5;66;03m# Called from three places in managers, all of which satisfy\u001b[39;00m\n\u001b[32m   1312\u001b[39m \u001b[38;5;66;03m#  these assertions\u001b[39;00m\n\u001b[32m   1313\u001b[39m \u001b[38;5;28;01mif\u001b[39;00m \u001b[38;5;28misinstance\u001b[39m(\u001b[38;5;28mself\u001b[39m, ExtensionBlock):\n\u001b[32m   1314\u001b[39m     \u001b[38;5;66;03m# NB: in this case, the 'axis' kwarg will be ignored in the\u001b[39;00m\n\u001b[32m   1315\u001b[39m     \u001b[38;5;66;03m#  algos.take_nd call above.\u001b[39;00m\n",
      "\u001b[36mFile \u001b[39m\u001b[32mc:\\Users\\JORGE\\OneDrive\\Desktop\\TIC\\venv\\Lib\\site-packages\\pandas\\core\\array_algos\\take.py:117\u001b[39m, in \u001b[36mtake_nd\u001b[39m\u001b[34m(arr, indexer, axis, fill_value, allow_fill)\u001b[39m\n\u001b[32m    114\u001b[39m     \u001b[38;5;28;01mreturn\u001b[39;00m arr.take(indexer, fill_value=fill_value, allow_fill=allow_fill)\n\u001b[32m    116\u001b[39m arr = np.asarray(arr)\n\u001b[32m--> \u001b[39m\u001b[32m117\u001b[39m \u001b[38;5;28;01mreturn\u001b[39;00m \u001b[43m_take_nd_ndarray\u001b[49m\u001b[43m(\u001b[49m\u001b[43marr\u001b[49m\u001b[43m,\u001b[49m\u001b[43m \u001b[49m\u001b[43mindexer\u001b[49m\u001b[43m,\u001b[49m\u001b[43m \u001b[49m\u001b[43maxis\u001b[49m\u001b[43m,\u001b[49m\u001b[43m \u001b[49m\u001b[43mfill_value\u001b[49m\u001b[43m,\u001b[49m\u001b[43m \u001b[49m\u001b[43mallow_fill\u001b[49m\u001b[43m)\u001b[49m\n",
      "\u001b[36mFile \u001b[39m\u001b[32mc:\\Users\\JORGE\\OneDrive\\Desktop\\TIC\\venv\\Lib\\site-packages\\pandas\\core\\array_algos\\take.py:162\u001b[39m, in \u001b[36m_take_nd_ndarray\u001b[39m\u001b[34m(arr, indexer, axis, fill_value, allow_fill)\u001b[39m\n\u001b[32m    157\u001b[39m     out = np.empty(out_shape, dtype=dtype)\n\u001b[32m    159\u001b[39m func = _get_take_nd_function(\n\u001b[32m    160\u001b[39m     arr.ndim, arr.dtype, out.dtype, axis=axis, mask_info=mask_info\n\u001b[32m    161\u001b[39m )\n\u001b[32m--> \u001b[39m\u001b[32m162\u001b[39m \u001b[43mfunc\u001b[49m\u001b[43m(\u001b[49m\u001b[43marr\u001b[49m\u001b[43m,\u001b[49m\u001b[43m \u001b[49m\u001b[43mindexer\u001b[49m\u001b[43m,\u001b[49m\u001b[43m \u001b[49m\u001b[43mout\u001b[49m\u001b[43m,\u001b[49m\u001b[43m \u001b[49m\u001b[43mfill_value\u001b[49m\u001b[43m)\u001b[49m\n\u001b[32m    164\u001b[39m \u001b[38;5;28;01mif\u001b[39;00m flip_order:\n\u001b[32m    165\u001b[39m     out = out.T\n",
      "\u001b[31mKeyboardInterrupt\u001b[39m: "
     ]
    }
   ],
   "source": [
    "df_descensos_estimados_3 = estimar_descensos_usuario(\n",
    "    afc_25_completo, \n",
    "    afc_25_3, \n",
    "    tiempos_promedio, \n",
    "    fw=2, \n",
    "    sw=1.2, \n",
    "    umbral=umbral\n",
    ")"
   ]
  },
  {
   "cell_type": "code",
   "execution_count": null,
   "id": "9dc3145c",
   "metadata": {},
   "outputs": [],
   "source": [
    "df_descensos_estimados_3.to_csv(os.path.join(ruta_carpeta, \"3_val_usuario.csv\"), index=False)\n",
    "df_descensos_estimados_3.to_excel(os.path.join(ruta_carpeta, \"descensos_usuario_3.xlsx\"), index=False)"
   ]
  },
  {
   "cell_type": "markdown",
   "id": "121b3c03",
   "metadata": {},
   "source": [
    "- Cuatro validaciones"
   ]
  },
  {
   "cell_type": "code",
   "execution_count": null,
   "id": "4dd0ac02",
   "metadata": {},
   "outputs": [],
   "source": [
    "conteo = afc_25_completo[\"CodigoTarjeta\"].value_counts()\n",
    "aux = conteo[conteo == 4].index\n",
    "afc_25_4 = afc_25_completo[afc_25_completo['CodigoTarjeta'].isin(aux)].copy()"
   ]
  },
  {
   "cell_type": "code",
   "execution_count": null,
   "id": "287b3c56",
   "metadata": {},
   "outputs": [],
   "source": [
    "df_descensos_estimados_4 = estimar_descensos_usuario(\n",
    "    afc_25_completo, \n",
    "    afc_25_4, \n",
    "    tiempos_promedio, \n",
    "    fw=2, \n",
    "    sw=1.2, \n",
    "    umbral=umbral\n",
    ")"
   ]
  },
  {
   "cell_type": "code",
   "execution_count": null,
   "id": "8021659e",
   "metadata": {},
   "outputs": [],
   "source": [
    "df_descensos_estimados_4.to_csv(os.path.join(ruta_carpeta, \"4_val_usuario.csv\"), index=False)\n",
    "df_descensos_estimados_4.to_excel(os.path.join(ruta_carpeta, \"descensos_usuario_4.xlsx\"), index=False)"
   ]
  },
  {
   "cell_type": "markdown",
   "id": "f923c6b8",
   "metadata": {},
   "source": [
    "- Cinco validaciones"
   ]
  },
  {
   "cell_type": "code",
   "execution_count": null,
   "id": "40af9484",
   "metadata": {},
   "outputs": [],
   "source": [
    "conteo = afc_25_completo[\"CodigoTarjeta\"].value_counts()\n",
    "aux = conteo[conteo == 5].index\n",
    "afc_25_5 = afc_25_completo[afc_25_completo['CodigoTarjeta'].isin(aux)].copy()"
   ]
  },
  {
   "cell_type": "code",
   "execution_count": null,
   "id": "61773f4d",
   "metadata": {},
   "outputs": [],
   "source": [
    "df_descensos_estimados_5 = estimar_descensos_usuario(\n",
    "    afc_25_completo, \n",
    "    afc_25_5, \n",
    "    tiempos_promedio, \n",
    "    fw=2, \n",
    "    sw=1.2, \n",
    "    umbral=umbral\n",
    ")"
   ]
  },
  {
   "cell_type": "code",
   "execution_count": null,
   "id": "c82b1ba3",
   "metadata": {},
   "outputs": [],
   "source": [
    "df_descensos_estimados_5.to_csv(os.path.join(ruta_carpeta, \"5_val_usuario.csv\"), index=False)\n",
    "df_descensos_estimados_5.to_excel(os.path.join(ruta_carpeta, \"descensos_usuario_5.xlsx\"), index=False)"
   ]
  },
  {
   "cell_type": "markdown",
   "id": "9a96fc63",
   "metadata": {},
   "source": [
    "- Seis validaciones"
   ]
  },
  {
   "cell_type": "code",
   "execution_count": null,
   "id": "51e0f550",
   "metadata": {},
   "outputs": [],
   "source": [
    "conteo = afc_25_completo[\"CodigoTarjeta\"].value_counts()\n",
    "aux = conteo[conteo == 6].index\n",
    "afc_25_6 = afc_25_completo[afc_25_completo['CodigoTarjeta'].isin(aux)].copy()"
   ]
  },
  {
   "cell_type": "code",
   "execution_count": null,
   "id": "0d75fc83",
   "metadata": {},
   "outputs": [],
   "source": [
    "df_descensos_estimados_6 = estimar_descensos_usuario(\n",
    "    afc_25_completo, \n",
    "    afc_25_6, \n",
    "    tiempos_promedio, \n",
    "    fw=2, \n",
    "    sw=1.2, \n",
    "    umbral=umbral\n",
    ")"
   ]
  },
  {
   "cell_type": "code",
   "execution_count": null,
   "id": "75c07514",
   "metadata": {},
   "outputs": [],
   "source": [
    "df_descensos_estimados_6.to_csv(os.path.join(ruta_carpeta, \"6_val_usuario.csv\"), index=False)\n",
    "df_descensos_estimados_6.to_excel(os.path.join(ruta_carpeta, \"descensos_usuario_6.xlsx\"), index=False)"
   ]
  }
 ],
 "metadata": {
  "kernelspec": {
   "display_name": "venv",
   "language": "python",
   "name": "python3"
  },
  "language_info": {
   "codemirror_mode": {
    "name": "ipython",
    "version": 3
   },
   "file_extension": ".py",
   "mimetype": "text/x-python",
   "name": "python",
   "nbconvert_exporter": "python",
   "pygments_lexer": "ipython3",
   "version": "3.13.3"
  }
 },
 "nbformat": 4,
 "nbformat_minor": 5
}
