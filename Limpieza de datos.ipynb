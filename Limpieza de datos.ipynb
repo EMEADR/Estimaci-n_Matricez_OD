{
 "cells": [
  {
   "cell_type": "markdown",
   "id": "0c4639d9",
   "metadata": {},
   "source": [
    "### Librerías necesarias"
   ]
  },
  {
   "cell_type": "code",
   "execution_count": null,
   "id": "222f9828",
   "metadata": {},
   "outputs": [],
   "source": [
    "import pandas as pd\n",
    "import os\n",
    "import geopandas as gpd\n",
    "from geopy.distance import geodesic\n",
    "import datetime\n",
    "from collections import OrderedDict"
   ]
  },
  {
   "cell_type": "markdown",
   "id": "6fa56005",
   "metadata": {},
   "source": [
    "### Funciones para limpieza de datos"
   ]
  },
  {
   "cell_type": "code",
   "execution_count": 2,
   "id": "fa099374",
   "metadata": {},
   "outputs": [],
   "source": [
    "def limpiar_nombre(nombre):\n",
    "    if pd.isna(nombre):\n",
    "        return \"\"\n",
    "    return \" \".join(nombre.strip().upper().split())"
   ]
  },
  {
   "cell_type": "code",
   "execution_count": 3,
   "id": "e927fe02",
   "metadata": {},
   "outputs": [],
   "source": [
    "def encontrar_mejor_match(afc_25):\n",
    "    resultados = []\n",
    "\n",
    "    lineas = afc_25['NombreLinea'].dropna().unique()\n",
    "\n",
    "    # Separar líneas numéricas y no numéricas\n",
    "    lineas_numericas = [l for l in lineas if str(l)[0].isdigit()]\n",
    "    lineas_no_numericas = [l for l in lineas if not str(l)[0].isdigit()]\n",
    "\n",
    "    for linea_a in lineas_no_numericas:\n",
    "        paradas_a = set(afc_25[afc_25['NombreLinea'] == linea_a]['CodigoParada'].unique())\n",
    "\n",
    "        mejor_match = None\n",
    "        max_coincidencias = 0\n",
    "\n",
    "        for linea_b in lineas_numericas:\n",
    "            paradas_b = set(afc_25[afc_25['NombreLinea'] == linea_b]['CodigoParada'].unique())\n",
    "            coincidencias = len(paradas_a & paradas_b)\n",
    "\n",
    "            if coincidencias > max_coincidencias:\n",
    "                mejor_match = linea_b\n",
    "                max_coincidencias = coincidencias\n",
    "\n",
    "        resultados.append({\n",
    "            'NombreLinea_NoNumerica': linea_a,\n",
    "            'MejorMatch_Numerica': mejor_match,\n",
    "            'CoincidenciasParadas': max_coincidencias\n",
    "        })\n",
    "\n",
    "    return pd.DataFrame(resultados)"
   ]
  },
  {
   "cell_type": "markdown",
   "id": "b24f617b",
   "metadata": {},
   "source": [
    "### Carga y Limpieza de las bases"
   ]
  },
  {
   "cell_type": "code",
   "execution_count": 51,
   "id": "555f5123",
   "metadata": {},
   "outputs": [],
   "source": [
    "ruta = \"C:/Users/JORGE/OneDrive/Desktop/TIC/Base\"\n",
    "os.makedirs(ruta, exist_ok=True)"
   ]
  },
  {
   "cell_type": "code",
   "execution_count": 52,
   "id": "73d6649b",
   "metadata": {},
   "outputs": [],
   "source": [
    "#Rutas descargadas de la pagina del gad de Cuenca\n",
    "rutas_gad = gpd.read_file(\"C:/Users/JORGE/OneDrive/Desktop/TIC/Rutas_GAD/Red_transporte.shp\")\n",
    "#----------------------------------------------------------------------------------------------------------------------\n",
    "\n",
    "#Paradas descargadas de la pagina del gad de Cuenca\n",
    "paradas_gad = gpd.read_file(\"C:/Users/JORGE/OneDrive/Desktop/TIC/Paradas_GAD/Paradas depuradas.shp\")\n",
    "\n",
    "# Diccionario de correcciones de nombres\n",
    "reemplazos = {\n",
    "    \"Alimentador 1\": \"100\",\n",
    "    'Troncal NORTE': '100',\n",
    "    'YANATURO': 'Molinopamba',\n",
    "    '3 Claveles': 'L3 Claveles',\n",
    "    \"1B\": \"1\",\n",
    "    '28 - Sidcay': '28',\n",
    "    'El Carmen': '9',\n",
    "    'Turi': '11',\n",
    "    'Nulti': '34',\n",
    "    'Carcel': '11B',\n",
    "    'La Raya': '33',\n",
    "    'Tejar': '13',\n",
    "    'Sidcay': '32',\n",
    "    'Mall del Rio': '13B',\n",
    "    'Llacao': '31',\n",
    "    'El verde': '21',\n",
    "    'Santa Rosa': '30',\n",
    "    'Rayoloma': '23',\n",
    "    'Paccha': '29'\n",
    "}\n",
    "\n",
    "reemplazos1 = {\n",
    "    'Florida - Paluncay': '10',\n",
    "    'EUCALIPTOS': '4',\n",
    "    'Rumiloma': '7'\n",
    "}\n",
    "\n",
    "# Aplicar reemplazos\n",
    "paradas_gad['LINEA'] = paradas_gad[\"LINEA\"].replace(reemplazos)\n",
    "paradas_gad['LINEA'] = paradas_gad[\"LINEA\"].replace(reemplazos1)"
   ]
  },
  {
   "cell_type": "code",
   "execution_count": 53,
   "id": "c7de2dfb",
   "metadata": {},
   "outputs": [
    {
     "data": {
      "text/plain": [
       "350581"
      ]
     },
     "execution_count": 53,
     "metadata": {},
     "output_type": "execute_result"
    }
   ],
   "source": [
    "# Lectura de la base de datos de las validaciones de las smart cards\n",
    "afc_25 = pd.read_csv(\"C:/Users/JORGE/OneDrive/Desktop/TIC/Bases/valid_25_oct.csv\", dtype={'FechaHoraValidacion' : str})\n",
    "\n",
    "# Creación de nuevas columnas\n",
    "afc_25['Hora']= afc_25['FechaHoraValidacion'].str[8:10].astype(int)\n",
    "afc_25['Minuto']= afc_25['FechaHoraValidacion'].str[10:12].astype(int)\n",
    "afc_25['Segundo']= afc_25['FechaHoraValidacion'].str[12:].astype(int)\n",
    "afc_25['Tiempo']= afc_25['Hora']*3600 + afc_25['Minuto']*60 + afc_25['Segundo']\n",
    "\n",
    "# Diccionario de correcciones de nombres\n",
    "reemplazos2 = {\n",
    "    '10 - Florida - Paluncay': '10',\n",
    "    'Linea 4': '4'\n",
    "}\n",
    "\n",
    "# Aplicar reemplazos\n",
    "afc_25['NombreLinea'] = afc_25[\"NombreLinea\"].replace(reemplazos)\n",
    "afc_25['NombreLinea'] = afc_25[\"NombreLinea\"].replace(reemplazos2)\n",
    "\n",
    "len(afc_25) # Número de transacciones realizadas en el día"
   ]
  },
  {
   "cell_type": "code",
   "execution_count": 54,
   "id": "d7d351c7",
   "metadata": {},
   "outputs": [
    {
     "data": {
      "text/plain": [
       "150119"
      ]
     },
     "execution_count": 54,
     "metadata": {},
     "output_type": "execute_result"
    }
   ],
   "source": [
    "len(afc_25['CodigoTarjeta'].unique()) # Número de usuarios en el día "
   ]
  },
  {
   "cell_type": "markdown",
   "id": "ad91c7f6",
   "metadata": {},
   "source": [
    "- Eliminar líneas sin información"
   ]
  },
  {
   "cell_type": "code",
   "execution_count": 8,
   "id": "c3519a8e",
   "metadata": {},
   "outputs": [],
   "source": [
    "# Aplicar función de matches\n",
    "resultados = encontrar_mejor_match(afc_25)\n",
    "\n",
    "d_resultados = pd.DataFrame(resultados)\n",
    "d_resultados = d_resultados.sort_values('CoincidenciasParadas', ascending=False)\n",
    "#----------------------------------------------------------------------------------------------------------------------\n",
    "#d_resultados.to_excel(os.path.join(ruta, \"coincidencias_lineas.xlsx\"), index=False)"
   ]
  },
  {
   "cell_type": "code",
   "execution_count": 9,
   "id": "b8a94dee",
   "metadata": {},
   "outputs": [
    {
     "data": {
      "text/plain": [
       "37"
      ]
     },
     "execution_count": 9,
     "metadata": {},
     "output_type": "execute_result"
    }
   ],
   "source": [
    "len(d_resultados)"
   ]
  },
  {
   "cell_type": "code",
   "execution_count": 55,
   "id": "79843571",
   "metadata": {},
   "outputs": [],
   "source": [
    "# Diccionario de correcciones de nombres\n",
    "reemplazos3 = {\n",
    "    \"Molinopamba\": \"20\",\n",
    "    'Tarqui': '21',\n",
    "    'El Rocio': '30',\n",
    "    'Santa Ana': '24',\n",
    "    \"Cruce del Carmen\": \"9\",\n",
    "    'Baguanchi del Valle': '15',\n",
    "    'Gualalcay': '24',\n",
    "    'Chaullayacu': '21'\n",
    "}\n",
    "\n",
    "# Aplicar reemplazos\n",
    "paradas_gad['LINEA'] = paradas_gad[\"LINEA\"].replace(reemplazos3)\n",
    "afc_25['NombreLinea'] = afc_25[\"NombreLinea\"].replace(reemplazos3)"
   ]
  },
  {
   "cell_type": "code",
   "execution_count": 56,
   "id": "ff9efdb5",
   "metadata": {},
   "outputs": [
    {
     "data": {
      "text/plain": [
       "6223"
      ]
     },
     "execution_count": 56,
     "metadata": {},
     "output_type": "execute_result"
    }
   ],
   "source": [
    "# Filtrar las líneas de validación con 2 o menos coincidencias\n",
    "lineas_malas = d_resultados[d_resultados['CoincidenciasParadas'] < 5]['NombreLinea_NoNumerica']\n",
    "\n",
    "# Contar cuántas validaciones en afc_25 corresponden a esas líneas\n",
    "validaciones_malas = afc_25[afc_25['NombreLinea'].isin(lineas_malas)]\n",
    "\n",
    "# AFC_25\n",
    "afc_25 = afc_25[~afc_25['NombreLinea'].isin(lineas_malas)]\n",
    "\n",
    "len(validaciones_malas)"
   ]
  },
  {
   "cell_type": "code",
   "execution_count": 57,
   "id": "96fa7576",
   "metadata": {},
   "outputs": [
    {
     "data": {
      "text/plain": [
       "344358"
      ]
     },
     "execution_count": 57,
     "metadata": {},
     "output_type": "execute_result"
    }
   ],
   "source": [
    "len(afc_25)"
   ]
  },
  {
   "cell_type": "code",
   "execution_count": 58,
   "id": "f48979ca",
   "metadata": {},
   "outputs": [
    {
     "data": {
      "text/plain": [
       "1.775"
      ]
     },
     "execution_count": 58,
     "metadata": {},
     "output_type": "execute_result"
    }
   ],
   "source": [
    "a = round((1-(344358/350581))*100,3)\n",
    "a"
   ]
  },
  {
   "cell_type": "markdown",
   "id": "7f2cc553",
   "metadata": {},
   "source": [
    "- Eliminar validaciones con paradas 'NO DETERMINADA' y líneas 'Sin Inicializar'"
   ]
  },
  {
   "cell_type": "code",
   "execution_count": 59,
   "id": "95de9e48",
   "metadata": {},
   "outputs": [
    {
     "data": {
      "text/plain": [
       "4741"
      ]
     },
     "execution_count": 59,
     "metadata": {},
     "output_type": "execute_result"
    }
   ],
   "source": [
    "# Eliminar espacios en los nombres de las paradas\n",
    "afc_25['NombreParada'] = afc_25['NombreParada'].apply(limpiar_nombre)\n",
    "afc_25['CodigoTarjeta'] = afc_25['CodigoTarjeta'].apply(limpiar_nombre)\n",
    "afc_25['NombreLinea'] = afc_25['NombreLinea'].apply(limpiar_nombre)\n",
    "\n",
    "len(afc_25[afc_25['CodigoParada']==0])"
   ]
  },
  {
   "cell_type": "code",
   "execution_count": 60,
   "id": "d6d8c86f",
   "metadata": {},
   "outputs": [
    {
     "data": {
      "text/plain": [
       "19"
      ]
     },
     "execution_count": 60,
     "metadata": {},
     "output_type": "execute_result"
    }
   ],
   "source": [
    "len(afc_25[afc_25['CodigoLinea']==0])"
   ]
  },
  {
   "cell_type": "code",
   "execution_count": 61,
   "id": "ff0bbff2",
   "metadata": {},
   "outputs": [
    {
     "data": {
      "text/plain": [
       "339603"
      ]
     },
     "execution_count": 61,
     "metadata": {},
     "output_type": "execute_result"
    }
   ],
   "source": [
    "# Eliminar las filas cuyo nombre de parada es 'No Determinado'\n",
    "afc_25 = afc_25[~afc_25['CodigoParada'].isin([0])]\n",
    "\n",
    "# Eliminar las filas cuyo Nombre de Linea es 'Sin Inicializar'\n",
    "afc_25 = afc_25[~afc_25['CodigoLinea'].isin([0])]\n",
    "\n",
    "len(afc_25)"
   ]
  },
  {
   "cell_type": "code",
   "execution_count": 62,
   "id": "464cf865",
   "metadata": {},
   "outputs": [
    {
     "data": {
      "text/plain": [
       "4755"
      ]
     },
     "execution_count": 62,
     "metadata": {},
     "output_type": "execute_result"
    }
   ],
   "source": [
    "344358-339603"
   ]
  },
  {
   "cell_type": "code",
   "execution_count": 63,
   "id": "904a6617",
   "metadata": {},
   "outputs": [
    {
     "data": {
      "text/plain": [
       "1.356"
      ]
     },
     "execution_count": 63,
     "metadata": {},
     "output_type": "execute_result"
    }
   ],
   "source": [
    "b = round((4755/350581)*100,3)\n",
    "b"
   ]
  },
  {
   "cell_type": "markdown",
   "id": "856ef66e",
   "metadata": {},
   "source": [
    "- Paradas con inconsistencias"
   ]
  },
  {
   "cell_type": "code",
   "execution_count": 64,
   "id": "626bb054",
   "metadata": {},
   "outputs": [],
   "source": [
    "cond = (paradas_gad['ID-PROX PA'] == 3456) \n",
    "paradas_gad.loc[cond, 'ID-PROX PA'] = 3406\n",
    "paradas_gad.loc[cond, 'PARADA2'] = 'ENTRADA A SAN PEDRO'\n",
    "\n",
    "cond = (paradas_gad['ID-PROX PA'] == 4565) \n",
    "paradas_gad.loc[cond, 'ID-PROX PA'] = 673\n",
    "paradas_gad.loc[cond, 'PARADA2'] = 'DE LOS CHASQUIS'\n",
    "\n",
    "cond = (paradas_gad['ID-PROX PA'] == 4566) \n",
    "paradas_gad.loc[cond, 'ID-PROX PA'] = 512\n",
    "paradas_gad.loc[cond, 'PARADA2'] = 'ENTRADA PATAMARCA'\n",
    "\n",
    "cond = (paradas_gad['ID-PARADA'] == 4367) \n",
    "paradas_gad.loc[cond, 'ID-PROX PA'] = 2402\n",
    "paradas_gad.loc[cond, 'PARADA2'] = 'CREA'\n",
    "\n",
    "cond = (paradas_gad['ID-PARADA'] == 3258) \n",
    "paradas_gad.loc[cond, 'ID-PROX PA'] = 3283\n",
    "paradas_gad.loc[cond, 'PARADA2'] = 'MINIMERCADO EL PLAYON'\n",
    "\n",
    "cond = (paradas_gad['ID-PARADA'] == 770) \n",
    "paradas_gad.loc[cond, 'ID-PROX PA'] = 1299\n",
    "paradas_gad.loc[cond, 'PARADA2'] = 'MARIANO CUEVA Y AMERICAS'\n",
    "\n",
    "cond = (paradas_gad['ID-PARADA'] == 4462) \n",
    "paradas_gad.loc[cond, 'ID-PROX PA'] = 3411\n",
    "paradas_gad.loc[cond, 'PARADA2'] = 'SALIDA DE AUQUILULA'\n",
    "\n",
    "cond = (paradas_gad['ID-PARADA'] == 2995) \n",
    "paradas_gad.loc[cond, 'ID-PROX PA'] = 3013\n",
    "paradas_gad.loc[cond, 'PARADA2'] = 'AV. 24 DE MAYO Y LAS GOLONDRINAS'\n",
    "\n",
    "cond = (paradas_gad['ID-PARADA'] == 3942) \n",
    "paradas_gad.loc[cond, 'ID-PROX PA'] = 3621\n",
    "paradas_gad.loc[cond, 'PARADA2'] = 'DON ISAAC'\n",
    "\n",
    "cond = (paradas_gad['ID-PARADA'] == 4438) \n",
    "paradas_gad.loc[cond, 'ID-PROX PA'] = 4209\n",
    "paradas_gad.loc[cond, 'PARADA2'] = 'SALESIANOS'\n",
    "\n",
    "cond = (paradas_gad['ID-PARADA'] == 526) \n",
    "paradas_gad.loc[cond, 'ID-PROX PA'] = 597\n",
    "paradas_gad.loc[cond, 'PARADA2'] = 'ESCUELA RUILOVA'\n",
    "\n",
    "cond = (paradas_gad['ID-PARADA'] == 2736) \n",
    "paradas_gad.loc[cond, 'ID-PROX PA'] = 2898\n",
    "paradas_gad.loc[cond, 'PARADA2'] = 'ENTRADA AL DESPACHO'\n",
    "\n",
    "cond = (paradas_gad['ID-PARADA'] == 51) \n",
    "paradas_gad.loc[cond, 'ID-PROX PA'] = 4423\n",
    "paradas_gad.loc[cond, 'PARADA2'] = 'CANAL DE RIEGO'\n",
    "\n",
    "cond = (paradas_gad['ID-PARADA'] == 1856) \n",
    "paradas_gad.loc[cond, 'ID-PROX PA'] = 1819\n",
    "paradas_gad.loc[cond, 'PARADA2'] = 'VEGA MUNOZ Y MANUEL VEGA'\n",
    "\n",
    "cond = (paradas_gad['ID-PARADA'] == 4503) \n",
    "paradas_gad.loc[cond, 'ID-PROX PA'] = 4502\n",
    "paradas_gad.loc[cond, 'PARADA2'] = 'LA Y'\n",
    "\n",
    "cond = (paradas_gad['ID-PARADA'] == 4437) \n",
    "paradas_gad.loc[cond, 'ID-PROX PA'] = 4028\n",
    "paradas_gad.loc[cond, 'PARADA2'] = 'CAMINO SALADO 2'\n",
    "\n",
    "cond = (paradas_gad['ID-PARADA'] == 435) \n",
    "paradas_gad.loc[cond, 'ID-PROX PA'] = 1211\n",
    "paradas_gad.loc[cond, 'PARADA2'] = 'VIA LLACAO'\n",
    "\n",
    "cond = (paradas_gad['ID-PARADA'] == 4505) \n",
    "paradas_gad.loc[cond, 'ID-PROX PA'] = 4506\n",
    "paradas_gad.loc[cond, 'PARADA2'] = 'CENTRO ESPIRITUAL SANTA MARIA'\n",
    "\n",
    "cond = (paradas_gad['ID-PARADA'] == 4571) \n",
    "paradas_gad.loc[cond, 'ID-PROX PA'] = 4534\n",
    "paradas_gad.loc[cond, 'PARADA2'] = 'PARQUE NARANCAY'\n",
    "\n",
    "cond = (paradas_gad['ID-PARADA'] == 1429) \n",
    "paradas_gad.loc[cond, 'ID-PROX PA'] = 1475\n",
    "paradas_gad.loc[cond, 'PARADA2'] = 'BUERAN Y CONDOR'\n",
    "\n",
    "cond = (paradas_gad['ID-PARADA'] == 1190) & (paradas_gad['ID-PROX PA'] == 1190)\n",
    "paradas_gad.loc[cond, 'ID-PROX PA'] = 1115\n",
    "paradas_gad.loc[cond, 'PARADA2'] = 'ENTRADA A LA CATOLICA'\n",
    "\n",
    "# Obtener la geometría de la fila 1158\n",
    "filtro_fuente = (paradas_gad['ID-PARADA'] == 695)\n",
    "if filtro_fuente.any():\n",
    "    # Obtener valores\n",
    "    nueva_geom = paradas_gad.loc[filtro_fuente, 'geometry'].values[0]\n",
    "    nueva_lat = paradas_gad.loc[filtro_fuente, 'LATITUD'].values[0]\n",
    "    nueva_lon = paradas_gad.loc[filtro_fuente, 'LONGITUD'].values[0]\n",
    "\n",
    "    # Reemplazar en la fila destino\n",
    "    paradas_gad.loc[paradas_gad['ID-PARADA'] == 4561, 'geometry'] = nueva_geom\n",
    "    paradas_gad.loc[paradas_gad['ID-PARADA'] == 4561, 'LATITUD'] = nueva_lat\n",
    "    paradas_gad.loc[paradas_gad['ID-PARADA'] == 4561, 'LONGITUD'] = nueva_lon\n",
    "\n",
    "# Obtener la geometría de la fila 1158\n",
    "filtro_fuente = paradas_gad['ID-PARADA'] == 1158\n",
    "if filtro_fuente.any():\n",
    "    nueva_geom = paradas_gad.loc[filtro_fuente, 'geometry'].values[0]\n",
    "    nueva_lat = paradas_gad.loc[filtro_fuente, 'LATITUD'].values[0]\n",
    "    nueva_lon = paradas_gad.loc[filtro_fuente, 'LONGITUD'].values[0]\n",
    "\n",
    "    paradas_gad.loc[paradas_gad['ID-PARADA'] == 1076, 'geometry'] = nueva_geom\n",
    "    paradas_gad.loc[paradas_gad['ID-PARADA'] == 1076, 'LATITUD'] = nueva_lat\n",
    "    paradas_gad.loc[paradas_gad['ID-PARADA'] == 1076, 'LONGITUD'] = nueva_lon\n",
    "\n",
    "# Obtener la geometría de la fila 1158\n",
    "filtro_fuente = paradas_gad['ID-PARADA'] == 425\n",
    "if filtro_fuente.any():\n",
    "    nueva_geom = paradas_gad.loc[filtro_fuente, 'geometry'].values[0]\n",
    "    nueva_lat = paradas_gad.loc[filtro_fuente, 'LATITUD'].values[0]\n",
    "    nueva_lon = paradas_gad.loc[filtro_fuente, 'LONGITUD'].values[0]\n",
    "\n",
    "    paradas_gad.loc[paradas_gad['ID-PARADA'] == 388, 'geometry'] = nueva_geom\n",
    "    paradas_gad.loc[paradas_gad['ID-PARADA'] == 388, 'LATITUD'] = nueva_lat\n",
    "    paradas_gad.loc[paradas_gad['ID-PARADA'] == 388, 'LONGITUD'] = nueva_lon"
   ]
  },
  {
   "cell_type": "markdown",
   "id": "53e87fd2",
   "metadata": {},
   "source": [
    "- Asignación de longitud y latitud"
   ]
  },
  {
   "cell_type": "code",
   "execution_count": 65,
   "id": "9682b09f",
   "metadata": {},
   "outputs": [
    {
     "name": "stdout",
     "output_type": "stream",
     "text": [
      "Hay 68 paradas de AFC_25 que no están en paradas_gad:\n",
      "{np.int64(4608), np.int64(4605), np.int64(4609), np.int64(4610), np.int64(4484), np.int64(4612), np.int64(4613), np.int64(4614), np.int64(4615), np.int64(4616), np.int64(2186), np.int64(4617), np.int64(4618), np.int64(4624), np.int64(4625), np.int64(4627), np.int64(4628), np.int64(4629), np.int64(4633), np.int64(4634), np.int64(2459), np.int64(4635), np.int64(4636), np.int64(4637), np.int64(4638), np.int64(4639), np.int64(4640), np.int64(4641), np.int64(4642), np.int64(4644), np.int64(4645), np.int64(4646), np.int64(4647), np.int64(4648), np.int64(4649), np.int64(4650), np.int64(4396), np.int64(4652), np.int64(2481), np.int64(4407), np.int64(1219), np.int64(3917), np.int64(853), np.int64(4441), np.int64(4057), np.int64(4442), np.int64(4444), np.int64(4448), np.int64(2529), np.int64(4599), np.int64(4589), np.int64(4590), np.int64(4591), np.int64(4592), np.int64(4593), np.int64(4082), np.int64(4594), np.int64(4595), np.int64(1909), np.int64(2038), np.int64(2421), np.int64(4596), np.int64(4597), np.int64(891), np.int64(4604), np.int64(4477), np.int64(4606), np.int64(4607)}\n"
     ]
    }
   ],
   "source": [
    "# Verifica que todas las paradas de df están en paradas_gad\n",
    "paradas_afc_25 = set(afc_25['CodigoParada'].unique())\n",
    "paradas_gad_id = set(paradas_gad['ID-PARADA'].unique())\n",
    "\n",
    "# Encuentra las paradas que están en df pero no en paradas_gad\n",
    "paradas_faltantes = paradas_afc_25 - paradas_gad_id\n",
    "\n",
    "# Resultado\n",
    "if not paradas_faltantes:\n",
    "    print(\"Todas las paradas de AFC_25 están presentes en paradas_gad.\")\n",
    "else:\n",
    "    print(f\"Hay {len(paradas_faltantes)} paradas de AFC_25 que no están en paradas_gad:\")\n",
    "    print(paradas_faltantes)"
   ]
  },
  {
   "cell_type": "code",
   "execution_count": 66,
   "id": "6280de67",
   "metadata": {},
   "outputs": [],
   "source": [
    "# Columnas a unir sean del mismo tipo\n",
    "afc_25['CodigoParada'] = afc_25['CodigoParada'].astype(int)\n",
    "paradas_gad['ID-PARADA'] = paradas_gad['ID-PARADA'].astype(int)\n",
    "\n",
    "# Seleccionamos solo las columnas que deseas añadir\n",
    "columnas_a_agregar = ['SECUENCIA', 'SENTIDO', 'LONGITUD', 'LATITUD', 'ID-PROX PA', 'PARADA2', 'geometry']\n",
    "paradas_subset = paradas_gad[['ID-PARADA'] + columnas_a_agregar]\n",
    "\n",
    "# Hacemos el merge\n",
    "afc_25_completo = afc_25.merge(paradas_subset, how='left', left_on='CodigoParada', right_on='ID-PARADA')\n",
    "\n",
    "# Opcional: llenar valores faltantes con 0 o vacío según prefieras\n",
    "afc_25_completo.fillna({'LONGITUD': 0, 'LATITUD': 0, 'ID-PROX PA': '0', 'PARADA2': '0'}, inplace=True)\n",
    "\n",
    "#len(afc_25_completo[afc_25_completo['LONGITUD']==0])\n",
    "\n",
    "afc_25_completo['ID-PROX PA'] = (\n",
    "    afc_25_completo['ID-PROX PA']\n",
    "    .dropna()\n",
    "    .astype(float)\n",
    "    .astype(int)\n",
    "    #.astype(str)\n",
    ")\n",
    "\n",
    "columnas_prox = ['ID-PARADA', 'LATITUD', 'LONGITUD', 'geometry']\n",
    "paradas_prox = paradas_gad[columnas_prox].copy()\n",
    "\n",
    "paradas_prox = paradas_prox.rename(columns={\n",
    "    'ID-PARADA': 'ID-PROX PA',\n",
    "    'LATITUD': 'LATITUD_PROX',\n",
    "    'LONGITUD': 'LONGITUD_PROX',\n",
    "    'geometry': 'geometry_PROX'\n",
    "})\n",
    "\n",
    "afc_25_completo = afc_25_completo.merge(\n",
    "    paradas_prox,\n",
    "    how='left',\n",
    "    on='ID-PROX PA'\n",
    ")"
   ]
  },
  {
   "cell_type": "code",
   "execution_count": 67,
   "id": "cddfab60",
   "metadata": {},
   "outputs": [
    {
     "data": {
      "text/plain": [
       "330491"
      ]
     },
     "execution_count": 67,
     "metadata": {},
     "output_type": "execute_result"
    }
   ],
   "source": [
    "# Eliminar las filas cuya longitud y latitud es 0 \n",
    "afc_25_completo = afc_25_completo[~afc_25_completo['LONGITUD'].isin([0])]\n",
    "\n",
    "len(afc_25_completo)"
   ]
  },
  {
   "cell_type": "code",
   "execution_count": 68,
   "id": "772305ad",
   "metadata": {},
   "outputs": [
    {
     "data": {
      "text/plain": [
       "9112"
      ]
     },
     "execution_count": 68,
     "metadata": {},
     "output_type": "execute_result"
    }
   ],
   "source": [
    "339603-330491"
   ]
  },
  {
   "cell_type": "code",
   "execution_count": 69,
   "id": "059f75ed",
   "metadata": {},
   "outputs": [
    {
     "data": {
      "text/plain": [
       "2.599"
      ]
     },
     "execution_count": 69,
     "metadata": {},
     "output_type": "execute_result"
    }
   ],
   "source": [
    "c = round(((9112/350581))*100,3)\n",
    "c"
   ]
  },
  {
   "cell_type": "markdown",
   "id": "782b6cb0",
   "metadata": {},
   "source": [
    "- Tiempo estimado entre paradas"
   ]
  },
  {
   "cell_type": "code",
   "execution_count": 70,
   "id": "5d013af4",
   "metadata": {},
   "outputs": [],
   "source": [
    "afc_25_completo = afc_25_completo.copy()\n",
    "\n",
    "# Asegurar tipos\n",
    "afc_25_completo['NombreLinea'] = afc_25_completo['NombreLinea'].astype(str)\n",
    "\n",
    "# Calcular tramos\n",
    "resultados_tramos = []\n",
    "\n",
    "for i, row in afc_25_completo.iterrows():\n",
    "    origen = (row['CodigoParada'])\n",
    "    destino = (row['ID-PROX PA'])\n",
    "    linea = str(row['NombreLinea'])\n",
    "\n",
    "    lat1, lon1 = row['LATITUD'], row['LONGITUD']\n",
    "    lat2, lon2 = row['LATITUD_PROX'], row['LONGITUD_PROX']\n",
    "\n",
    "    # Verifica que ninguna coordenada esté vacía\n",
    "    if pd.isna(lat1) or pd.isna(lon1) or pd.isna(lat2) or pd.isna(lon2):\n",
    "        print(f\"❌ Coordenadas faltantes para {origen} → {destino}\")\n",
    "        continue\n",
    "\n",
    "    # Calcular distancia\n",
    "    p1 = (lat1, lon1)\n",
    "    p2 = (lat2, lon2)\n",
    "    distancia = geodesic(p1, p2).meters\n",
    "\n",
    "    resultados_tramos.append({\n",
    "        'NombreLinea': linea,\n",
    "        'CodigoParada': origen,\n",
    "        'ID-PROX PA': destino,\n",
    "        'distancia_m': round(distancia, 2)\n",
    "    })\n",
    "\n",
    "df_tramos = pd.DataFrame(resultados_tramos)"
   ]
  },
  {
   "cell_type": "code",
   "execution_count": 71,
   "id": "53f0364a",
   "metadata": {},
   "outputs": [],
   "source": [
    "# Convertir tiempo a minutos\n",
    "rutas_gad = rutas_gad[rutas_gad['tiempo_rec'].notna()].copy()\n",
    "rutas_gad['tiempo_rec'] = rutas_gad['tiempo_rec'].astype(str).apply(\n",
    "    lambda x: x + ':00' if ':' in x and x.count(':') == 1 else x\n",
    ")\n",
    "rutas_gad['tiempo_rec'] = pd.to_timedelta(rutas_gad['tiempo_rec'], errors='coerce')\n",
    "rutas_gad['tiempo_min'] = rutas_gad['tiempo_rec'].dt.total_seconds() / 60\n",
    "\n",
    "# ------------------------------\n",
    "# Calcular tiempo y longitud promedio por línea\n",
    "# ------------------------------\n",
    "\n",
    "# Limpiar columnas\n",
    "df_tramos['NombreLinea'] = df_tramos['NombreLinea'].astype(str).str.strip()\n",
    "rutas_gad['linename'] = rutas_gad['linename'].astype(str).str.strip()\n",
    "\n",
    "# Filtrar rutas que tienen correspondencia\n",
    "lineas_validas = rutas_gad['linename'].unique()\n",
    "df_tramos = df_tramos[df_tramos['NombreLinea'].isin(lineas_validas)].copy()\n",
    "\n",
    "# Limpiar y convertir longitud\n",
    "rutas_gad = rutas_gad[rutas_gad['tiempo_min'].notna()]\n",
    "rutas_gad['length_km'] = rutas_gad['length'].str.replace('km', '').astype(float)\n",
    "\n",
    "# Agrupar: obtener promedio de tiempo y longitud por línea\n",
    "rutas_promedio = rutas_gad.groupby('linename', as_index=False).agg({\n",
    "    'tiempo_min': 'mean',\n",
    "    'length_km': 'mean'\n",
    "})\n",
    "\n",
    "# ------------------------------\n",
    "# Unir con df_tramos y calcular tiempo estimado\n",
    "# ------------------------------\n",
    "df_tramos = df_tramos.merge(\n",
    "    rutas_promedio,\n",
    "    left_on='NombreLinea',\n",
    "    right_on='linename',\n",
    "    how='left'\n",
    ")\n",
    "\n",
    "df_tramos['tiempo_estimado_min'] = df_tramos.apply(\n",
    "    lambda row: (row['distancia_m'] / (row['length_km'] * 1000)) * row['tiempo_min']\n",
    "    if pd.notnull(row['length_km']) and row['length_km'] > 0 else None,\n",
    "    axis=1\n",
    ")"
   ]
  },
  {
   "cell_type": "code",
   "execution_count": 72,
   "id": "6b4d9a60",
   "metadata": {},
   "outputs": [],
   "source": [
    "df_tramos = df_tramos.drop_duplicates(subset=['CodigoParada'])"
   ]
  },
  {
   "cell_type": "code",
   "execution_count": 73,
   "id": "8a50abb2",
   "metadata": {},
   "outputs": [],
   "source": [
    "afc_25_completo = afc_25_completo.merge(\n",
    "    df_tramos[['CodigoParada', 'ID-PROX PA', 'distancia_m', 'tiempo_estimado_min']],\n",
    "    on=['CodigoParada'],\n",
    "    how='left'\n",
    ")"
   ]
  },
  {
   "cell_type": "markdown",
   "id": "69056066",
   "metadata": {},
   "source": [
    "- Eliminar usuarios con más de 6 transacciones AFC en el día"
   ]
  },
  {
   "cell_type": "code",
   "execution_count": 74,
   "id": "7cf5f3f3",
   "metadata": {},
   "outputs": [
    {
     "data": {
      "text/html": [
       "<div>\n",
       "<style scoped>\n",
       "    .dataframe tbody tr th:only-of-type {\n",
       "        vertical-align: middle;\n",
       "    }\n",
       "\n",
       "    .dataframe tbody tr th {\n",
       "        vertical-align: top;\n",
       "    }\n",
       "\n",
       "    .dataframe thead th {\n",
       "        text-align: right;\n",
       "    }\n",
       "</style>\n",
       "<table border=\"1\" class=\"dataframe\">\n",
       "  <thead>\n",
       "    <tr style=\"text-align: right;\">\n",
       "      <th></th>\n",
       "      <th>Número_usuarios</th>\n",
       "    </tr>\n",
       "    <tr>\n",
       "      <th>Cantidad_validaciones</th>\n",
       "      <th></th>\n",
       "    </tr>\n",
       "  </thead>\n",
       "  <tbody>\n",
       "    <tr>\n",
       "      <th>1</th>\n",
       "      <td>49375</td>\n",
       "    </tr>\n",
       "    <tr>\n",
       "      <th>2</th>\n",
       "      <td>52923</td>\n",
       "    </tr>\n",
       "    <tr>\n",
       "      <th>3</th>\n",
       "      <td>21303</td>\n",
       "    </tr>\n",
       "    <tr>\n",
       "      <th>4</th>\n",
       "      <td>13658</td>\n",
       "    </tr>\n",
       "    <tr>\n",
       "      <th>5</th>\n",
       "      <td>4856</td>\n",
       "    </tr>\n",
       "    <tr>\n",
       "      <th>6</th>\n",
       "      <td>2539</td>\n",
       "    </tr>\n",
       "    <tr>\n",
       "      <th>7</th>\n",
       "      <td>1008</td>\n",
       "    </tr>\n",
       "    <tr>\n",
       "      <th>8</th>\n",
       "      <td>599</td>\n",
       "    </tr>\n",
       "    <tr>\n",
       "      <th>9</th>\n",
       "      <td>273</td>\n",
       "    </tr>\n",
       "    <tr>\n",
       "      <th>10</th>\n",
       "      <td>118</td>\n",
       "    </tr>\n",
       "    <tr>\n",
       "      <th>11</th>\n",
       "      <td>52</td>\n",
       "    </tr>\n",
       "    <tr>\n",
       "      <th>12</th>\n",
       "      <td>38</td>\n",
       "    </tr>\n",
       "    <tr>\n",
       "      <th>13</th>\n",
       "      <td>13</td>\n",
       "    </tr>\n",
       "    <tr>\n",
       "      <th>14</th>\n",
       "      <td>4</td>\n",
       "    </tr>\n",
       "    <tr>\n",
       "      <th>15</th>\n",
       "      <td>7</td>\n",
       "    </tr>\n",
       "    <tr>\n",
       "      <th>16</th>\n",
       "      <td>5</td>\n",
       "    </tr>\n",
       "    <tr>\n",
       "      <th>17</th>\n",
       "      <td>1</td>\n",
       "    </tr>\n",
       "    <tr>\n",
       "      <th>18</th>\n",
       "      <td>1</td>\n",
       "    </tr>\n",
       "    <tr>\n",
       "      <th>19</th>\n",
       "      <td>3</td>\n",
       "    </tr>\n",
       "    <tr>\n",
       "      <th>24</th>\n",
       "      <td>1</td>\n",
       "    </tr>\n",
       "    <tr>\n",
       "      <th>31</th>\n",
       "      <td>1</td>\n",
       "    </tr>\n",
       "    <tr>\n",
       "      <th>32</th>\n",
       "      <td>1</td>\n",
       "    </tr>\n",
       "    <tr>\n",
       "      <th>36</th>\n",
       "      <td>1</td>\n",
       "    </tr>\n",
       "    <tr>\n",
       "      <th>37</th>\n",
       "      <td>1</td>\n",
       "    </tr>\n",
       "    <tr>\n",
       "      <th>40</th>\n",
       "      <td>1</td>\n",
       "    </tr>\n",
       "  </tbody>\n",
       "</table>\n",
       "</div>"
      ],
      "text/plain": [
       "                       Número_usuarios\n",
       "Cantidad_validaciones                 \n",
       "1                                49375\n",
       "2                                52923\n",
       "3                                21303\n",
       "4                                13658\n",
       "5                                 4856\n",
       "6                                 2539\n",
       "7                                 1008\n",
       "8                                  599\n",
       "9                                  273\n",
       "10                                 118\n",
       "11                                  52\n",
       "12                                  38\n",
       "13                                  13\n",
       "14                                   4\n",
       "15                                   7\n",
       "16                                   5\n",
       "17                                   1\n",
       "18                                   1\n",
       "19                                   3\n",
       "24                                   1\n",
       "31                                   1\n",
       "32                                   1\n",
       "36                                   1\n",
       "37                                   1\n",
       "40                                   1"
      ]
     },
     "execution_count": 74,
     "metadata": {},
     "output_type": "execute_result"
    }
   ],
   "source": [
    "# Número de usuarios para cada validación\n",
    "df = afc_25_completo.groupby(\"CodigoTarjeta\").count()\n",
    "df = df.rename(columns={'CodigoParada': 'Cantidad_validaciones'})\n",
    "\n",
    "df1 = df.groupby('Cantidad_validaciones').count()\n",
    "\n",
    "df1 = df1[['NombreParada']].rename(columns={'NombreParada': 'Número_usuarios'})\n",
    "df1"
   ]
  },
  {
   "cell_type": "code",
   "execution_count": 75,
   "id": "66f4a645",
   "metadata": {},
   "outputs": [
    {
     "data": {
      "text/plain": [
       "313276"
      ]
     },
     "execution_count": 75,
     "metadata": {},
     "output_type": "execute_result"
    }
   ],
   "source": [
    "# Eliminación de usuarios con más de 6 validaciones \n",
    "conteo = afc_25_completo[\"CodigoTarjeta\"].value_counts()\n",
    "aux = conteo[conteo < 7].index\n",
    "afc_25_completo = afc_25_completo[afc_25_completo['CodigoTarjeta'].isin(aux)]\n",
    "\n",
    "len(afc_25_completo)\n",
    "#len(afc_25_completo['CodigoTarjeta'].unique())"
   ]
  },
  {
   "cell_type": "code",
   "execution_count": 76,
   "id": "f6137c35",
   "metadata": {},
   "outputs": [
    {
     "data": {
      "text/plain": [
       "17215"
      ]
     },
     "execution_count": 76,
     "metadata": {},
     "output_type": "execute_result"
    }
   ],
   "source": [
    "330491-313276"
   ]
  },
  {
   "cell_type": "code",
   "execution_count": 77,
   "id": "99c3d1ac",
   "metadata": {},
   "outputs": [
    {
     "data": {
      "text/plain": [
       "4.91"
      ]
     },
     "execution_count": 77,
     "metadata": {},
     "output_type": "execute_result"
    }
   ],
   "source": [
    "d = round((17215/350581)*100,3)\n",
    "d"
   ]
  },
  {
   "cell_type": "code",
   "execution_count": 78,
   "id": "47d6fee5",
   "metadata": {},
   "outputs": [
    {
     "name": "stdout",
     "output_type": "stream",
     "text": [
      "10.64\n"
     ]
    }
   ],
   "source": [
    "print(a+b+c+d)"
   ]
  },
  {
   "cell_type": "code",
   "execution_count": 79,
   "id": "bda7b769",
   "metadata": {},
   "outputs": [
    {
     "data": {
      "text/plain": [
       "89.36"
      ]
     },
     "execution_count": 79,
     "metadata": {},
     "output_type": "execute_result"
    }
   ],
   "source": [
    "round((313276/350581)*100,2)"
   ]
  },
  {
   "cell_type": "markdown",
   "id": "c7b3a583",
   "metadata": {},
   "source": [
    "- Secuencia global"
   ]
  },
  {
   "cell_type": "code",
   "execution_count": 80,
   "id": "ebfde854",
   "metadata": {},
   "outputs": [],
   "source": [
    "afc_25_completo[\"Tiempo\"] = afc_25_completo.apply(\n",
    "    lambda row: datetime.time(row[\"Hora\"], row[\"Minuto\"], row[\"Segundo\"]),\n",
    "    axis=1\n",
    ")\n",
    "\n",
    "# Asegúrate de ordenar los datos \n",
    "afc_25_completo.sort_values(by=[\"CodigoLinea\", \"RegistroMunicipal\", \"Tiempo\"], inplace=True)\n",
    "\n",
    "# Crear secuencia coherente por línea \n",
    "secuencia_global = {}\n",
    "\n",
    "for linea in afc_25_completo[\"CodigoLinea\"].unique():\n",
    "    df_linea = afc_25_completo[afc_25_completo[\"CodigoLinea\"] == linea].copy()\n",
    "    df_linea.sort_values(by=[\"RegistroMunicipal\", \"Tiempo\"], inplace=True)\n",
    "\n",
    "    secuencia = []  # Lista de paradas únicas en orden observado\n",
    "\n",
    "    for _, grupo in df_linea.groupby(\"RegistroMunicipal\"):\n",
    "        paradas = grupo[\"CodigoParada\"].tolist()\n",
    "        for i, parada in enumerate(paradas):\n",
    "            if parada not in secuencia:\n",
    "                # Insertar entre dos paradas si es posible\n",
    "                if i > 0 and paradas[i - 1] in secuencia:\n",
    "                    idx = secuencia.index(paradas[i - 1]) + 1\n",
    "                    if idx < len(secuencia):\n",
    "                        if paradas[i] != secuencia[idx]:\n",
    "                            secuencia.insert(idx, parada)\n",
    "                    else:\n",
    "                        secuencia.append(parada)\n",
    "                else:\n",
    "                    secuencia.append(parada)\n",
    "\n",
    "    # Guardar secuencia ordenada para esa línea\n",
    "    secuencia_global[linea] = OrderedDict((p, i + 1) for i, p in enumerate(secuencia))\n",
    "\n",
    "# Asignar secuencia a cada validación \n",
    "def asignar_secuencia(row):\n",
    "    linea = row[\"CodigoLinea\"]\n",
    "    parada = row[\"CodigoParada\"]\n",
    "    return secuencia_global.get(linea, {}).get(parada, None)\n",
    "\n",
    "afc_25_completo[\"SECUENCIA_GLOBAL\"] = afc_25_completo.apply(asignar_secuencia, axis=1)"
   ]
  },
  {
   "cell_type": "markdown",
   "id": "794e1ac0",
   "metadata": {},
   "source": [
    "- Tiempo entre transacciones o timbradas"
   ]
  },
  {
   "cell_type": "code",
   "execution_count": 81,
   "id": "ef8eba8f",
   "metadata": {},
   "outputs": [],
   "source": [
    "afc_25_completo = afc_25_completo.copy()\n",
    "\n",
    "# Transformar los datos para el gráfico \n",
    "afc_25_completo['TiempoCompleto'] = pd.to_datetime(\n",
    "    afc_25_completo['Hora'].astype(str).str.zfill(2) + ':' +\n",
    "    afc_25_completo['Minuto'].astype(str).str.zfill(2) + ':' +\n",
    "    afc_25_completo['Segundo'].astype(str).str.zfill(2),\n",
    "    format='%H:%M:%S'\n",
    ")\n",
    "\n",
    "# Asegúrate de que esté ordenado correctamente\n",
    "afc_25_completo = afc_25_completo.sort_values(['CodigoTarjeta', 'TiempoCompleto'])\n",
    "\n",
    "# Calcular diferencia hacia adelante por tarjeta\n",
    "afc_25_completo['TiempoEntreTimbradas'] = afc_25_completo.groupby('CodigoTarjeta')['TiempoCompleto'].diff(-1).abs()\n",
    "\n",
    "# Convertir a minutos\n",
    "afc_25_completo['TiempoEntreTimbradas_min'] = afc_25_completo['TiempoEntreTimbradas'].dt.total_seconds() / 60"
   ]
  },
  {
   "cell_type": "code",
   "execution_count": 82,
   "id": "b6c4c7ae",
   "metadata": {},
   "outputs": [],
   "source": [
    "afc_25_completo = afc_25_completo[['CodigoTarjeta', 'Hora', 'Minuto', 'Segundo', 'Tiempo', 'CodigoLinea', 'NombreLinea', 'RegistroMunicipal', 'CodigoParada', 'NombreParada', 'ID-PROX PA_x', \n",
    "                    'PARADA2', 'SENTIDO', 'SECUENCIA','SECUENCIA_GLOBAL', 'LATITUD', 'LONGITUD', 'geometry', 'LATITUD_PROX', 'LONGITUD_PROX', 'geometry_PROX', 'TiempoEntreTimbradas_min', 'distancia_m', 'tiempo_estimado_min']]"
   ]
  },
  {
   "cell_type": "code",
   "execution_count": null,
   "id": "868a3fef",
   "metadata": {},
   "outputs": [
    {
     "data": {
      "text/plain": [
       "313276"
      ]
     },
     "execution_count": 83,
     "metadata": {},
     "output_type": "execute_result"
    }
   ],
   "source": [
    "#----------------------------------------------------------------------------------------------------------------------\n",
    "#afc_25_completo.to_excel(os.path.join(ruta, \"AFC_25_Completo.xlsx\"), index=False)\n",
    "#afc_25_completo.to_csv(os.path.join(ruta, \"afc_25_completo.csv\"), index=False)"
   ]
  }
 ],
 "metadata": {
  "kernelspec": {
   "display_name": "venv",
   "language": "python",
   "name": "python3"
  },
  "language_info": {
   "codemirror_mode": {
    "name": "ipython",
    "version": 3
   },
   "file_extension": ".py",
   "mimetype": "text/x-python",
   "name": "python",
   "nbconvert_exporter": "python",
   "pygments_lexer": "ipython3",
   "version": "3.13.3"
  }
 },
 "nbformat": 4,
 "nbformat_minor": 5
}
