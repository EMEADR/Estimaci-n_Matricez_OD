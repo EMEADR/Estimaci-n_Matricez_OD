{
 "cells": [
  {
   "cell_type": "markdown",
   "id": "200d53f8",
   "metadata": {},
   "source": [
    "### Librerías necesarias"
   ]
  },
  {
   "cell_type": "code",
   "execution_count": 2,
   "id": "f30ab490",
   "metadata": {},
   "outputs": [],
   "source": [
    "import pandas as pd\n",
    "import matplotlib.pyplot as plt\n",
    "from datetime import time\n",
    "import os"
   ]
  },
  {
   "cell_type": "markdown",
   "id": "5a346ea0",
   "metadata": {},
   "source": [
    "### Análisis de resultados"
   ]
  },
  {
   "cell_type": "code",
   "execution_count": 3,
   "id": "1a12bbd7",
   "metadata": {},
   "outputs": [],
   "source": [
    "afc_25_completo = pd.read_csv(\"C:/Users/JORGE/OneDrive/Desktop/TIC/Base/afc_25_completo.csv\")"
   ]
  },
  {
   "cell_type": "code",
   "execution_count": 4,
   "id": "5b1f35f0",
   "metadata": {},
   "outputs": [
    {
     "data": {
      "text/plain": [
       "313276"
      ]
     },
     "execution_count": 4,
     "metadata": {},
     "output_type": "execute_result"
    }
   ],
   "source": [
    "len(afc_25_completo)\n",
    "#len(afc_25_completo[\"CodigoTarjeta\"].unique())"
   ]
  },
  {
   "cell_type": "code",
   "execution_count": 5,
   "id": "cb91ef13",
   "metadata": {},
   "outputs": [],
   "source": [
    "inferencia_2_val = pd.read_csv(\"C:/Users/JORGE/OneDrive/Desktop/TIC/Inferencia_destinos/2_val_usuario.csv\")\n",
    "inferencia_3_val = pd.read_csv(\"C:/Users/JORGE/OneDrive/Desktop/TIC/Inferencia_destinos/3_val_usuario.csv\")\n",
    "inferencia_4_val = pd.read_csv(\"C:/Users/JORGE/OneDrive/Desktop/TIC/Inferencia_destinos/4_val_usuario.csv\")\n",
    "inferencia_5_val = pd.read_csv(\"C:/Users/JORGE/OneDrive/Desktop/TIC/Inferencia_destinos/5_val_usuario.csv\")\n",
    "inferencia_6_val = pd.read_csv(\"C:/Users/JORGE/OneDrive/Desktop/TIC/Inferencia_destinos/6_val_usuario.csv\")"
   ]
  },
  {
   "cell_type": "code",
   "execution_count": 6,
   "id": "52736dd1",
   "metadata": {},
   "outputs": [],
   "source": [
    "afc_25_inferencias = pd.concat([inferencia_2_val, inferencia_3_val, inferencia_4_val, inferencia_5_val, inferencia_6_val], axis=0, ignore_index=True)"
   ]
  },
  {
   "cell_type": "code",
   "execution_count": 7,
   "id": "aac366bf",
   "metadata": {},
   "outputs": [
    {
     "data": {
      "text/plain": [
       "263798"
      ]
     },
     "execution_count": 7,
     "metadata": {},
     "output_type": "execute_result"
    }
   ],
   "source": [
    "len(afc_25_inferencias)"
   ]
  },
  {
   "cell_type": "code",
   "execution_count": 8,
   "id": "f818ccb9",
   "metadata": {},
   "outputs": [
    {
     "data": {
      "text/plain": [
       "49478"
      ]
     },
     "execution_count": 8,
     "metadata": {},
     "output_type": "execute_result"
    }
   ],
   "source": [
    "afc_25_1=len(afc_25_completo)-len(afc_25_inferencias)\n",
    "afc_25_1"
   ]
  },
  {
   "cell_type": "code",
   "execution_count": 9,
   "id": "7ff157a4",
   "metadata": {},
   "outputs": [],
   "source": [
    "afc_25_completo[\"Tiempo\"] = afc_25_completo[\"Tiempo\"].astype(str).str.strip()\n",
    "afc_25_inferencias[\"TiempoInicial\"] = afc_25_inferencias[\"TiempoInicial\"].astype(str).str.strip()\n",
    "\n",
    "# Hacemos el merge por tarjeta y hora\n",
    "resultado = pd.merge(\n",
    "    afc_25_inferencias,\n",
    "    afc_25_completo[[\"CodigoTarjeta\", \"Tiempo\", \"TiempoEntreTimbradas_min\"]],\n",
    "    left_on=[\"CodigoTarjeta\", \"TiempoInicial\"],\n",
    "    right_on=[\"CodigoTarjeta\", \"Tiempo\"],\n",
    "    how=\"left\"\n",
    ")\n",
    "\n",
    "# Opcional: eliminar la columna 'Tiempo' duplicada si no la necesitas\n",
    "afc_25_inferencias = resultado.drop(columns=[\"Tiempo\"])"
   ]
  },
  {
   "cell_type": "code",
   "execution_count": 10,
   "id": "305e0693",
   "metadata": {},
   "outputs": [],
   "source": [
    "afc_25_inferencias = afc_25_inferencias.rename(columns={\"TiempoInicial\": \"Tiempo\"})"
   ]
  },
  {
   "cell_type": "markdown",
   "id": "d0ba0a2d",
   "metadata": {},
   "source": [
    "- Colocamos en la base  \"Otras\" las validaciones únicas en el día."
   ]
  },
  {
   "cell_type": "code",
   "execution_count": 11,
   "id": "d764b55f",
   "metadata": {},
   "outputs": [],
   "source": [
    "afc_25_completo[\"Tiempo_str\"] = pd.to_datetime(afc_25_completo[\"Tiempo\"], format=\"%H:%M:%S\").dt.strftime(\"%H:%M:%S\")\n",
    "afc_25_inferencias[\"Tiempo_str\"] = pd.to_datetime(afc_25_inferencias[\"Tiempo\"], format=\"%H:%M:%S\").dt.strftime(\"%H:%M:%S\")\n",
    "\n",
    "afc_25_completo[\"CodigoTarjeta\"] = afc_25_completo[\"CodigoTarjeta\"].astype(str)\n",
    "afc_25_inferencias[\"CodigoTarjeta\"] = afc_25_inferencias[\"CodigoTarjeta\"].astype(str)\n",
    "\n",
    "afc_25_completo[\"CodigoParada\"] = afc_25_completo[\"CodigoParada\"].astype(str)\n",
    "afc_25_inferencias[\"ParadaInicial\"] = afc_25_inferencias[\"ParadaInicial\"].astype(str)"
   ]
  },
  {
   "cell_type": "code",
   "execution_count": 12,
   "id": "71aa4d61",
   "metadata": {},
   "outputs": [],
   "source": [
    "# Validaciones en la base completa y en la base con paradas inferidas\n",
    "validaciones_entrada = set(zip(\n",
    "    afc_25_completo[\"CodigoTarjeta\"],\n",
    "    afc_25_completo[\"Tiempo_str\"],\n",
    "    afc_25_completo[\"CodigoParada\"]\n",
    "))\n",
    "\n",
    "validaciones_estimadas = set(zip(\n",
    "    afc_25_inferencias[\"CodigoTarjeta\"],\n",
    "    afc_25_inferencias[\"Tiempo_str\"],\n",
    "    afc_25_inferencias[\"ParadaInicial\"]\n",
    "))"
   ]
  },
  {
   "cell_type": "code",
   "execution_count": 13,
   "id": "eafd244f",
   "metadata": {},
   "outputs": [],
   "source": [
    "# Validaciones a las que no se se le infiere el destino\n",
    "Otras = validaciones_entrada - validaciones_estimadas\n",
    "Otras = pd.DataFrame(Otras, columns=[\"CodigoTarjeta\", \"Tiempo\", 'ParadaInicial'])"
   ]
  },
  {
   "cell_type": "code",
   "execution_count": 14,
   "id": "1e9af59d",
   "metadata": {},
   "outputs": [
    {
     "data": {
      "text/plain": [
       "49478"
      ]
     },
     "execution_count": 14,
     "metadata": {},
     "output_type": "execute_result"
    }
   ],
   "source": [
    "len(Otras)"
   ]
  },
  {
   "cell_type": "markdown",
   "id": "bc5702a5",
   "metadata": {},
   "source": [
    "- Eliminamos de la base todas las validaciones que el modelo no pudo estimar y las movemos a la base 'Otras'. "
   ]
  },
  {
   "cell_type": "code",
   "execution_count": 15,
   "id": "a6ca312e",
   "metadata": {},
   "outputs": [],
   "source": [
    "# Filtrar los casos donde no se pudo estimar (incluyendo cierre)\n",
    "no_estim = afc_25_inferencias[\n",
    "    afc_25_inferencias[\"ParadaEstimDescenso\"].isin([\"No se pudo estimar\", \"No se pudo estimar (cierre)\"])\n",
    "].copy()"
   ]
  },
  {
   "cell_type": "code",
   "execution_count": 16,
   "id": "6b282ffc",
   "metadata": {},
   "outputs": [
    {
     "data": {
      "text/plain": [
       "38059"
      ]
     },
     "execution_count": 16,
     "metadata": {},
     "output_type": "execute_result"
    }
   ],
   "source": [
    "len(no_estim)"
   ]
  },
  {
   "cell_type": "code",
   "execution_count": 17,
   "id": "fc0ff104",
   "metadata": {},
   "outputs": [
    {
     "data": {
      "text/plain": [
       "225739"
      ]
     },
     "execution_count": 17,
     "metadata": {},
     "output_type": "execute_result"
    }
   ],
   "source": [
    "len(afc_25_inferencias)-len(no_estim)"
   ]
  },
  {
   "cell_type": "code",
   "execution_count": 18,
   "id": "5093a262",
   "metadata": {},
   "outputs": [
    {
     "data": {
      "text/plain": [
       "72.05754670003446"
      ]
     },
     "execution_count": 18,
     "metadata": {},
     "output_type": "execute_result"
    }
   ],
   "source": [
    "(225739/313276)*100"
   ]
  },
  {
   "cell_type": "markdown",
   "id": "216c4020",
   "metadata": {},
   "source": [
    "Las validaciones que no se pudieron estimar son 38059, esto se debe a que no se encontró paradas candidatas dentro del umbral seleccionado."
   ]
  },
  {
   "cell_type": "code",
   "execution_count": 19,
   "id": "5ff3885b",
   "metadata": {},
   "outputs": [],
   "source": [
    "no_estim = no_estim[['CodigoTarjeta', 'Tiempo', 'ParadaInicial']]"
   ]
  },
  {
   "cell_type": "code",
   "execution_count": 20,
   "id": "5daf473a",
   "metadata": {},
   "outputs": [],
   "source": [
    "Otras = pd.concat([no_estim, Otras])"
   ]
  },
  {
   "cell_type": "code",
   "execution_count": 21,
   "id": "70341bea",
   "metadata": {},
   "outputs": [
    {
     "data": {
      "text/plain": [
       "87537"
      ]
     },
     "execution_count": 21,
     "metadata": {},
     "output_type": "execute_result"
    }
   ],
   "source": [
    "len(Otras)"
   ]
  },
  {
   "cell_type": "code",
   "execution_count": 22,
   "id": "02d9a743",
   "metadata": {},
   "outputs": [],
   "source": [
    "afc_25_inferencias = afc_25_inferencias[\n",
    "    ~afc_25_inferencias[\"ParadaEstimDescenso\"].isin([\"No se pudo estimar\", \"No se pudo estimar (cierre)\"])\n",
    "].copy()"
   ]
  },
  {
   "cell_type": "code",
   "execution_count": 23,
   "id": "61a204dd",
   "metadata": {},
   "outputs": [
    {
     "data": {
      "text/plain": [
       "225739"
      ]
     },
     "execution_count": 23,
     "metadata": {},
     "output_type": "execute_result"
    }
   ],
   "source": [
    "len(afc_25_inferencias)"
   ]
  },
  {
   "cell_type": "markdown",
   "id": "3acc058e",
   "metadata": {},
   "source": [
    "- Movemos de la base con las inferencias 'afc_25_inferencias' a los usuarios cuyas validaciones se realizaron en la misma parada. Hay que mencionar que estos tramos de viajes no se pueden estimar ya que no se observa ningún movimiento espacial y por lo tanto no se puede inferir el punto de descenso. "
   ]
  },
  {
   "cell_type": "code",
   "execution_count": 24,
   "id": "8327deac",
   "metadata": {},
   "outputs": [],
   "source": [
    "# Asegurar que las columnas sean numéricas\n",
    "afc_25_inferencias[\"Tg\"] = pd.to_numeric(afc_25_inferencias[\"Tg\"], errors=\"coerce\")\n",
    "afc_25_inferencias[\"TiempoBus\"] = pd.to_numeric(afc_25_inferencias[\"TiempoBus\"], errors=\"coerce\")\n",
    "afc_25_inferencias[\"DistanciaCaminata\"] = pd.to_numeric(afc_25_inferencias[\"DistanciaCaminata\"], errors=\"coerce\")\n",
    "\n",
    "# Filtrar filas donde los tres valores son exactamente cero\n",
    "afc_25_misma_parada = afc_25_inferencias[\n",
    "    (afc_25_inferencias[\"Tg\"] == 0) &\n",
    "    (afc_25_inferencias[\"TiempoBus\"] == 0) &\n",
    "    (afc_25_inferencias[\"DistanciaCaminata\"] == 0)\n",
    "].copy()"
   ]
  },
  {
   "cell_type": "code",
   "execution_count": 25,
   "id": "60969530",
   "metadata": {},
   "outputs": [],
   "source": [
    "afc_25_misma_parada = afc_25_misma_parada[['CodigoTarjeta', 'Tiempo', 'ParadaInicial']]"
   ]
  },
  {
   "cell_type": "code",
   "execution_count": 26,
   "id": "4dbb6525",
   "metadata": {},
   "outputs": [
    {
     "data": {
      "text/plain": [
       "28825"
      ]
     },
     "execution_count": 26,
     "metadata": {},
     "output_type": "execute_result"
    }
   ],
   "source": [
    "len(afc_25_misma_parada)"
   ]
  },
  {
   "cell_type": "markdown",
   "id": "6b8c042f",
   "metadata": {},
   "source": [
    "Son un total de 28825 validaciones que pondremos en una nueva base llamada 'Otras' (junto con los usuarios que realizaron una sola validación al día) para luego inferir la parada de descenso mediante un factor de expansión. "
   ]
  },
  {
   "cell_type": "code",
   "execution_count": 27,
   "id": "5667abf7",
   "metadata": {},
   "outputs": [],
   "source": [
    "Otras = pd.concat([afc_25_misma_parada, Otras])"
   ]
  },
  {
   "cell_type": "code",
   "execution_count": 28,
   "id": "4340cf1e",
   "metadata": {},
   "outputs": [
    {
     "data": {
      "text/plain": [
       "116362"
      ]
     },
     "execution_count": 28,
     "metadata": {},
     "output_type": "execute_result"
    }
   ],
   "source": [
    "len(Otras)"
   ]
  },
  {
   "cell_type": "code",
   "execution_count": 29,
   "id": "1fa45a53",
   "metadata": {},
   "outputs": [],
   "source": [
    "afc_25_misma_parada[\"CodigoTarjeta\"] = afc_25_misma_parada[\"CodigoTarjeta\"].astype(str)\n",
    "afc_25_misma_parada[\"Tiempo\"] = afc_25_misma_parada[\"Tiempo\"].astype(str)\n",
    "\n",
    "afc_25_inferencias[\"CodigoTarjeta\"] = afc_25_inferencias[\"CodigoTarjeta\"].astype(str)\n",
    "afc_25_inferencias[\"Tiempo\"] = afc_25_inferencias[\"Tiempo\"].astype(str)\n",
    "\n",
    "# Crear una llave única combinando tarjeta y tiempo\n",
    "afc_25_misma_parada[\"llave\"] = afc_25_misma_parada[\"CodigoTarjeta\"] + \"_\" + afc_25_misma_parada[\"Tiempo\"]\n",
    "afc_25_inferencias[\"llave\"] = afc_25_inferencias[\"CodigoTarjeta\"] + \"_\" + afc_25_inferencias[\"Tiempo\"]\n",
    "\n",
    "# Filtrar las filas que NO están en la base de exclusión\n",
    "afc_25_inferencias = afc_25_inferencias[~afc_25_inferencias[\"llave\"].isin(afc_25_misma_parada[\"llave\"])].copy()\n",
    "\n",
    "# (opcional) eliminar la columna auxiliar\n",
    "afc_25_inferencias = afc_25_inferencias.drop(columns=\"llave\")"
   ]
  },
  {
   "cell_type": "code",
   "execution_count": 30,
   "id": "a03ecbfb",
   "metadata": {},
   "outputs": [
    {
     "data": {
      "text/plain": [
       "196914"
      ]
     },
     "execution_count": 30,
     "metadata": {},
     "output_type": "execute_result"
    }
   ],
   "source": [
    "len(afc_25_inferencias)"
   ]
  },
  {
   "cell_type": "markdown",
   "id": "82d2695b",
   "metadata": {},
   "source": [
    "Por ahora, la base 'Otras' tiene un total de 116362 validaciones. "
   ]
  },
  {
   "cell_type": "markdown",
   "id": "dec9a857",
   "metadata": {},
   "source": [
    "- Ahora, analizamos los casos en los que el tiempo entre timbradas es menor al tiempo generalizado (Tg).  "
   ]
  },
  {
   "cell_type": "code",
   "execution_count": 31,
   "id": "6b002e89",
   "metadata": {},
   "outputs": [],
   "source": [
    "# Asegurarse de que ambas columnas sean numéricas\n",
    "afc_25_inferencias[\"TiempoEntreTimbradas_min\"] = pd.to_numeric(afc_25_inferencias[\"TiempoEntreTimbradas_min\"], errors=\"coerce\")\n",
    "afc_25_inferencias[\"Tg\"] = pd.to_numeric(afc_25_inferencias[\"Tg\"], errors=\"coerce\")\n",
    "\n",
    "# Eliminar (filtrar fuera) los casos donde TiempoEntreTimbradas_min < Tg\n",
    "afc_25_tg = afc_25_inferencias[afc_25_inferencias[\"TiempoEntreTimbradas_min\"] < afc_25_inferencias[\"Tg\"]].copy()"
   ]
  },
  {
   "cell_type": "code",
   "execution_count": 32,
   "id": "6d36003a",
   "metadata": {},
   "outputs": [
    {
     "data": {
      "text/plain": [
       "9029"
      ]
     },
     "execution_count": 32,
     "metadata": {},
     "output_type": "execute_result"
    }
   ],
   "source": [
    "len(afc_25_tg)"
   ]
  },
  {
   "cell_type": "markdown",
   "id": "c8da308b",
   "metadata": {},
   "source": [
    "Notamos que son 9029 validaciones en las que esto ocurre. Ahora, vamos ver la distribución de los tiempos entre timbradas de estas validaciones. "
   ]
  },
  {
   "cell_type": "code",
   "execution_count": 33,
   "id": "cc67acad",
   "metadata": {},
   "outputs": [
    {
     "data": {
      "image/png": "[encoded data removed]",
      "text/plain": [
       "<Figure size 1000x500 with 1 Axes>"
      ]
     },
     "metadata": {},
     "output_type": "display_data"
    }
   ],
   "source": [
    "afc_25_tg['TiempoEntreTimbradas_min'].dropna().plot.hist(bins=50, edgecolor='black', figsize=(10, 5))\n",
    "plt.title('Distribución del tiempo entre timbradas')\n",
    "plt.xlabel('Minutos entre timbradas')\n",
    "plt.ylabel('Número de usuarios')\n",
    "plt.grid(True)\n",
    "plt.show()"
   ]
  },
  {
   "cell_type": "code",
   "execution_count": 34,
   "id": "fdefc556",
   "metadata": {},
   "outputs": [
    {
     "name": "stdout",
     "output_type": "stream",
     "text": [
      "🟩 El intervalo con más usuarios es: (0, 5]\n",
      "👥 Número de usuarios en ese intervalo: 1747\n"
     ]
    }
   ],
   "source": [
    "bins = list(range(0, 900 + 1, 5))  # Intervalos de 5 minutos (300 segundos)\n",
    "afc_25_tg['IntervaloTiempo'] = pd.cut(afc_25_tg['TiempoEntreTimbradas_min'], bins=bins)\n",
    "frecuencia_por_intervalo = afc_25_tg['IntervaloTiempo'].value_counts().sort_index()\n",
    "intervalo_mas_comun = frecuencia_por_intervalo.idxmax()\n",
    "usuarios_en_ese_intervalo = frecuencia_por_intervalo.max()\n",
    "\n",
    "print(f\"🟩 El intervalo con más usuarios es: {intervalo_mas_comun}\")\n",
    "print(f\"👥 Número de usuarios en ese intervalo: {usuarios_en_ese_intervalo}\")"
   ]
  },
  {
   "cell_type": "markdown",
   "id": "a554bb63",
   "metadata": {},
   "source": [
    "Notamos que una gran cantidad de estas validaciones tiene un tiempo entre timbradas menor o igual a 5 minutos. Esta es la razón por la cual asumimos que si las validaciones se dieron dentro de los 5 minutos son un error del sistema y solo nos quedamos con la siguiente validación. Para los otros casos hacemos validos todos los tramos de viajes."
   ]
  },
  {
   "cell_type": "code",
   "execution_count": 35,
   "id": "68e4ed46",
   "metadata": {},
   "outputs": [],
   "source": [
    "# Marcar las filas que se deben eliminar: si la diferencia con la siguiente es <= 5 minutos\n",
    "afc_25_tg['Eliminar'] = (afc_25_tg['TiempoEntreTimbradas_min'] <= 5)"
   ]
  },
  {
   "cell_type": "code",
   "execution_count": 36,
   "id": "9a64047b",
   "metadata": {},
   "outputs": [],
   "source": [
    "# Eliminar solo esas\n",
    "afc_25_tg_eliminar = afc_25_tg[afc_25_tg['Eliminar']].copy()"
   ]
  },
  {
   "cell_type": "code",
   "execution_count": 37,
   "id": "16f39e06",
   "metadata": {},
   "outputs": [
    {
     "data": {
      "text/plain": [
       "1747"
      ]
     },
     "execution_count": 37,
     "metadata": {},
     "output_type": "execute_result"
    }
   ],
   "source": [
    "len(afc_25_tg_eliminar)"
   ]
  },
  {
   "cell_type": "code",
   "execution_count": 38,
   "id": "2dd2b171",
   "metadata": {},
   "outputs": [],
   "source": [
    "# Eliminar columnas auxiliares \n",
    "afc_25_tg.drop(columns=['Eliminar'], inplace=True)"
   ]
  },
  {
   "cell_type": "code",
   "execution_count": 39,
   "id": "ce0def71",
   "metadata": {},
   "outputs": [],
   "source": [
    "afc_25_tg_eliminar[\"CodigoTarjeta\"] = afc_25_tg_eliminar[\"CodigoTarjeta\"].astype(str)\n",
    "afc_25_tg_eliminar[\"Tiempo\"] = afc_25_tg_eliminar[\"Tiempo\"].astype(str)\n",
    "\n",
    "afc_25_inferencias[\"CodigoTarjeta\"] = afc_25_inferencias[\"CodigoTarjeta\"].astype(str)\n",
    "afc_25_inferencias[\"Tiempo\"] = afc_25_inferencias[\"Tiempo\"].astype(str)\n",
    "\n",
    "# Crear una llave única combinando tarjeta y tiempo\n",
    "afc_25_tg_eliminar[\"llave\"] = afc_25_tg_eliminar[\"CodigoTarjeta\"] + \"_\" + afc_25_tg_eliminar[\"Tiempo\"]\n",
    "afc_25_inferencias[\"llave\"] = afc_25_inferencias[\"CodigoTarjeta\"] + \"_\" + afc_25_inferencias[\"Tiempo\"]\n",
    "\n",
    "# Filtrar las filas que NO están en la base de exclusión\n",
    "afc_25_inferencias = afc_25_inferencias[~afc_25_inferencias[\"llave\"].isin(afc_25_tg_eliminar[\"llave\"])].copy()\n",
    "\n",
    "# (opcional) eliminar la columna auxiliar\n",
    "afc_25_inferencias = afc_25_inferencias.drop(columns=\"llave\")"
   ]
  },
  {
   "cell_type": "code",
   "execution_count": 40,
   "id": "20482bb1",
   "metadata": {},
   "outputs": [
    {
     "data": {
      "text/plain": [
       "195167"
      ]
     },
     "execution_count": 40,
     "metadata": {},
     "output_type": "execute_result"
    }
   ],
   "source": [
    "len(afc_25_inferencias)"
   ]
  },
  {
   "cell_type": "code",
   "execution_count": 41,
   "id": "541d2b74",
   "metadata": {},
   "outputs": [
    {
     "data": {
      "text/plain": [
       "1590"
      ]
     },
     "execution_count": 41,
     "metadata": {},
     "output_type": "execute_result"
    }
   ],
   "source": [
    "len(afc_25_inferencias['ParadaInicial'].unique())"
   ]
  },
  {
   "cell_type": "markdown",
   "id": "2f3c1ff9",
   "metadata": {},
   "source": [
    "Al final, el número de validaciones que vamos estimar por el factor de expansión son 116362. Y el número de validaciones que tenemos inferidas la parada de descenso son 195167, es decir, el 62.30% de la base luego de la limpieza de los datos. "
   ]
  },
  {
   "cell_type": "code",
   "execution_count": 42,
   "id": "02db8f41",
   "metadata": {},
   "outputs": [
    {
     "data": {
      "text/plain": [
       "62.299"
      ]
     },
     "execution_count": 42,
     "metadata": {},
     "output_type": "execute_result"
    }
   ],
   "source": [
    "round((195167/313276)*100,3)"
   ]
  },
  {
   "cell_type": "markdown",
   "id": "ced419e6",
   "metadata": {},
   "source": [
    "### Fact EXP"
   ]
  },
  {
   "cell_type": "code",
   "execution_count": 43,
   "id": "a8bfee38",
   "metadata": {},
   "outputs": [],
   "source": [
    "ruta_carpeta = \"C:/Users/JORGE/OneDrive/Desktop/TIC/Base\"\n",
    "os.makedirs(ruta_carpeta, exist_ok=True)"
   ]
  },
  {
   "cell_type": "code",
   "execution_count": 44,
   "id": "a3075892",
   "metadata": {},
   "outputs": [
    {
     "data": {
      "image/png": "[encoded data removed]",
      "text/plain": [
       "<Figure size 1200x500 with 1 Axes>"
      ]
     },
     "metadata": {},
     "output_type": "display_data"
    }
   ],
   "source": [
    "# Asegurar que Tiempo es tipo datetime\n",
    "afc_25_inferencias[\"Tiempo\"] = pd.to_datetime(afc_25_inferencias[\"Tiempo\"], format=\"%H:%M:%S\", errors=\"coerce\")\n",
    "Otras[\"Tiempo\"] = pd.to_datetime(Otras[\"Tiempo\"], format=\"%H:%M:%S\", errors=\"coerce\")\n",
    "\n",
    "# Crear columna con la hora redondeada (franja de 1 hora)\n",
    "afc_25_inferencias[\"Hora\"] = afc_25_inferencias[\"Tiempo\"].dt.floor(\"h\") \n",
    "Otras[\"Hora\"] = Otras[\"Tiempo\"].dt.floor(\"h\") \n",
    "\n",
    "# Contar cuántas validaciones hubo por hora\n",
    "conteo_por_hora = afc_25_inferencias[\"Hora\"].value_counts().sort_index()\n",
    "\n",
    "plt.figure(figsize=(12, 5))\n",
    "ax = conteo_por_hora.plot(kind=\"bar\", width=0.8, edgecolor='black')\n",
    "\n",
    "# Formatear etiquetas del eje X para mostrar solo la hora\n",
    "ax.set_xticklabels([x.strftime(\"%H:%M\") for x in conteo_por_hora.index])\n",
    "\n",
    "plt.title(\"Frecuencia de validaciones por hora\")\n",
    "plt.xlabel(\"Hora del día\")\n",
    "plt.ylabel(\"Número de validaciones\")\n",
    "plt.xticks(rotation=45)\n",
    "plt.grid(axis='y')\n",
    "plt.tight_layout()\n",
    "plt.show()"
   ]
  },
  {
   "cell_type": "code",
   "execution_count": 45,
   "id": "3d932607",
   "metadata": {},
   "outputs": [],
   "source": [
    "def clasificar_banda(hora):\n",
    "    hora = hora.time()  # Extraer solo la parte de la hora\n",
    "\n",
    "    if time(5, 0, 0) <= hora <= time(5, 59, 59):\n",
    "        return \"05:00–05:59\"\n",
    "    elif time(6, 0, 0) <= hora <= time(7, 59, 0):\n",
    "        return \"06:00–07:59\"\n",
    "    elif time(8, 0, 0) <= hora <= time(11, 59, 59):\n",
    "        return \"08:00–11:59\"\n",
    "    elif time(12, 0, 0) <= hora <= time(13, 59, 59):\n",
    "        return \"12:00–13:59\"\n",
    "    elif time(14, 0, 0) <= hora <= time(16, 59, 59):\n",
    "        return \"14:00–16:59\"\n",
    "    elif time(17, 0, 0) <= hora <= time(18, 59, 59):\n",
    "        return \"17:00–18:59\"\n",
    "    elif time(19, 0, 0) <= hora <= time(22, 59, 59):\n",
    "        return \"19:00–22:59\"\n",
    "    else:\n",
    "        return \"Fuera de rango\""
   ]
  },
  {
   "cell_type": "code",
   "execution_count": 46,
   "id": "f4789652",
   "metadata": {},
   "outputs": [],
   "source": [
    "afc_25_inferencias[\"banda_tiempo\"] = afc_25_inferencias[\"Hora\"].apply(clasificar_banda)"
   ]
  },
  {
   "cell_type": "code",
   "execution_count": 47,
   "id": "d1a3afca",
   "metadata": {},
   "outputs": [],
   "source": [
    "conocidos_por_origen_banda = afc_25_inferencias.groupby(\n",
    "    [\"ParadaInicial\", \"ParadaEstimDescenso\", \"banda_tiempo\"]\n",
    ").size().reset_index(name=\"viajes_inferidos\")\n",
    "conocidos_por_origen_banda[\"ParadaEstimDescenso\"] = conocidos_por_origen_banda[\"ParadaEstimDescenso\"].astype(float)\n",
    "conocidos_por_origen_banda[\"ParadaEstimDescenso\"] = conocidos_por_origen_banda[\"ParadaEstimDescenso\"].astype(\"Int64\")"
   ]
  },
  {
   "cell_type": "code",
   "execution_count": 48,
   "id": "219b76f9",
   "metadata": {},
   "outputs": [],
   "source": [
    "Otras[\"banda_tiempo\"] = Otras[\"Hora\"].apply(clasificar_banda)"
   ]
  },
  {
   "cell_type": "code",
   "execution_count": 49,
   "id": "c64c93a7",
   "metadata": {},
   "outputs": [],
   "source": [
    "no_conocidos_por_origen_banda = Otras.groupby(\n",
    "    [\"ParadaInicial\", \"banda_tiempo\"]\n",
    ").size().reset_index(name=\"viajes_inferidos\")"
   ]
  },
  {
   "cell_type": "code",
   "execution_count": 50,
   "id": "31cd6807",
   "metadata": {},
   "outputs": [],
   "source": [
    "# Agrupar viajes conocidos por ParadaInicial y banda\n",
    "conocidos = conocidos_por_origen_banda.groupby([\"ParadaInicial\", \"banda_tiempo\"])[\"viajes_inferidos\"].sum().reset_index(name=\"conocidos\")\n",
    "\n",
    "# Agrupar viajes no conocidos por ParadaInicial y banda\n",
    "no_conocidos = no_conocidos_por_origen_banda.groupby([\"ParadaInicial\", \"banda_tiempo\"])[\"viajes_inferidos\"].sum().reset_index(name=\"no_conocidos\")\n",
    "\n",
    "# Unir ambas tablas\n",
    "viajes = pd.merge(conocidos, no_conocidos, on=[\"ParadaInicial\", \"banda_tiempo\"], how=\"outer\").fillna(0)\n",
    "\n",
    "# Calcular total de viajes y f_it\n",
    "viajes[\"total\"] = viajes[\"conocidos\"] + viajes[\"no_conocidos\"]\n",
    "viajes[\"f_it\"] = viajes[\"total\"] / viajes[\"conocidos\"]\n",
    "\n",
    "# 5. (Opcional) Reordenar columnas\n",
    "viajes = viajes[[\"ParadaInicial\", \"banda_tiempo\", \"conocidos\", \"no_conocidos\", \"total\", \"f_it\"]]"
   ]
  },
  {
   "cell_type": "code",
   "execution_count": 51,
   "id": "817a3a7a",
   "metadata": {},
   "outputs": [],
   "source": [
    "viajes_expand = viajes[[\"ParadaInicial\", \"banda_tiempo\", \"f_it\"]]\n",
    "\n",
    "viajes_inferidos_expand = pd.merge(\n",
    "    conocidos_por_origen_banda,\n",
    "    viajes_expand,\n",
    "    on=[\"ParadaInicial\", \"banda_tiempo\"],\n",
    "    how=\"left\"\n",
    ")\n",
    "\n",
    "viajes_inferidos_expand[\"viajes_expandido\"] = viajes_inferidos_expand[\"viajes_inferidos\"] * viajes_inferidos_expand[\"f_it\"]"
   ]
  },
  {
   "cell_type": "code",
   "execution_count": 52,
   "id": "b511d8b8",
   "metadata": {},
   "outputs": [
    {
     "data": {
      "text/html": [
       "<div>\n",
       "<style scoped>\n",
       "    .dataframe tbody tr th:only-of-type {\n",
       "        vertical-align: middle;\n",
       "    }\n",
       "\n",
       "    .dataframe tbody tr th {\n",
       "        vertical-align: top;\n",
       "    }\n",
       "\n",
       "    .dataframe thead th {\n",
       "        text-align: right;\n",
       "    }\n",
       "</style>\n",
       "<table border=\"1\" class=\"dataframe\">\n",
       "  <thead>\n",
       "    <tr style=\"text-align: right;\">\n",
       "      <th></th>\n",
       "      <th>ParadaInicial</th>\n",
       "      <th>ParadaEstimDescenso</th>\n",
       "      <th>banda_tiempo</th>\n",
       "      <th>viajes_inferidos</th>\n",
       "      <th>f_it</th>\n",
       "      <th>viajes_expandido</th>\n",
       "    </tr>\n",
       "  </thead>\n",
       "  <tbody>\n",
       "    <tr>\n",
       "      <th>83996</th>\n",
       "      <td>93</td>\n",
       "      <td>59</td>\n",
       "      <td>17:00–18:59</td>\n",
       "      <td>1</td>\n",
       "      <td>1.000000</td>\n",
       "      <td>1.000000</td>\n",
       "    </tr>\n",
       "    <tr>\n",
       "      <th>48286</th>\n",
       "      <td>2817</td>\n",
       "      <td>2162</td>\n",
       "      <td>08:00–11:59</td>\n",
       "      <td>1</td>\n",
       "      <td>1.000000</td>\n",
       "      <td>1.000000</td>\n",
       "    </tr>\n",
       "    <tr>\n",
       "      <th>48283</th>\n",
       "      <td>2817</td>\n",
       "      <td>2064</td>\n",
       "      <td>19:00–22:59</td>\n",
       "      <td>1</td>\n",
       "      <td>1.000000</td>\n",
       "      <td>1.000000</td>\n",
       "    </tr>\n",
       "    <tr>\n",
       "      <th>48282</th>\n",
       "      <td>2817</td>\n",
       "      <td>2064</td>\n",
       "      <td>08:00–11:59</td>\n",
       "      <td>1</td>\n",
       "      <td>1.000000</td>\n",
       "      <td>1.000000</td>\n",
       "    </tr>\n",
       "    <tr>\n",
       "      <th>85194</th>\n",
       "      <td>986</td>\n",
       "      <td>1881</td>\n",
       "      <td>06:00–07:59</td>\n",
       "      <td>1</td>\n",
       "      <td>1.000000</td>\n",
       "      <td>1.000000</td>\n",
       "    </tr>\n",
       "    <tr>\n",
       "      <th>...</th>\n",
       "      <td>...</td>\n",
       "      <td>...</td>\n",
       "      <td>...</td>\n",
       "      <td>...</td>\n",
       "      <td>...</td>\n",
       "      <td>...</td>\n",
       "    </tr>\n",
       "    <tr>\n",
       "      <th>30489</th>\n",
       "      <td>2189</td>\n",
       "      <td>3375</td>\n",
       "      <td>08:00–11:59</td>\n",
       "      <td>49</td>\n",
       "      <td>1.768194</td>\n",
       "      <td>86.641509</td>\n",
       "    </tr>\n",
       "    <tr>\n",
       "      <th>49367</th>\n",
       "      <td>2848</td>\n",
       "      <td>1866</td>\n",
       "      <td>06:00–07:59</td>\n",
       "      <td>58</td>\n",
       "      <td>1.596491</td>\n",
       "      <td>92.596491</td>\n",
       "    </tr>\n",
       "    <tr>\n",
       "      <th>47298</th>\n",
       "      <td>2789</td>\n",
       "      <td>4006</td>\n",
       "      <td>06:00–07:59</td>\n",
       "      <td>67</td>\n",
       "      <td>1.420690</td>\n",
       "      <td>95.186207</td>\n",
       "    </tr>\n",
       "    <tr>\n",
       "      <th>30365</th>\n",
       "      <td>2189</td>\n",
       "      <td>2317</td>\n",
       "      <td>08:00–11:59</td>\n",
       "      <td>70</td>\n",
       "      <td>1.768194</td>\n",
       "      <td>123.773585</td>\n",
       "    </tr>\n",
       "    <tr>\n",
       "      <th>73589</th>\n",
       "      <td>4499</td>\n",
       "      <td>2193</td>\n",
       "      <td>08:00–11:59</td>\n",
       "      <td>86</td>\n",
       "      <td>1.467521</td>\n",
       "      <td>126.206838</td>\n",
       "    </tr>\n",
       "  </tbody>\n",
       "</table>\n",
       "<p>85263 rows × 6 columns</p>\n",
       "</div>"
      ],
      "text/plain": [
       "      ParadaInicial  ParadaEstimDescenso banda_tiempo  viajes_inferidos  \\\n",
       "83996            93                   59  17:00–18:59                 1   \n",
       "48286          2817                 2162  08:00–11:59                 1   \n",
       "48283          2817                 2064  19:00–22:59                 1   \n",
       "48282          2817                 2064  08:00–11:59                 1   \n",
       "85194           986                 1881  06:00–07:59                 1   \n",
       "...             ...                  ...          ...               ...   \n",
       "30489          2189                 3375  08:00–11:59                49   \n",
       "49367          2848                 1866  06:00–07:59                58   \n",
       "47298          2789                 4006  06:00–07:59                67   \n",
       "30365          2189                 2317  08:00–11:59                70   \n",
       "73589          4499                 2193  08:00–11:59                86   \n",
       "\n",
       "           f_it  viajes_expandido  \n",
       "83996  1.000000          1.000000  \n",
       "48286  1.000000          1.000000  \n",
       "48283  1.000000          1.000000  \n",
       "48282  1.000000          1.000000  \n",
       "85194  1.000000          1.000000  \n",
       "...         ...               ...  \n",
       "30489  1.768194         86.641509  \n",
       "49367  1.596491         92.596491  \n",
       "47298  1.420690         95.186207  \n",
       "30365  1.768194        123.773585  \n",
       "73589  1.467521        126.206838  \n",
       "\n",
       "[85263 rows x 6 columns]"
      ]
     },
     "execution_count": 52,
     "metadata": {},
     "output_type": "execute_result"
    }
   ],
   "source": [
    "viajes_inferidos_expand.sort_values(\"viajes_expandido\")"
   ]
  },
  {
   "cell_type": "code",
   "execution_count": 53,
   "id": "932e6395",
   "metadata": {},
   "outputs": [],
   "source": [
    "viajes_inferidos_expand.to_csv(os.path.join(ruta_carpeta, \"viajes_inferidos.csv\"), index=False)\n",
    "#viajes_inferidos_expand.to_excel(os.path.join(ruta_carpeta, \"viajes_inferidos.xlsx\"), index=False)"
   ]
  },
  {
   "cell_type": "code",
   "execution_count": 54,
   "id": "cd098252",
   "metadata": {},
   "outputs": [
    {
     "data": {
      "text/plain": [
       "310282"
      ]
     },
     "execution_count": 54,
     "metadata": {},
     "output_type": "execute_result"
    }
   ],
   "source": [
    "total_expandido = round(viajes_inferidos_expand['viajes_expandido'].sum())\n",
    "total_expandido = int(total_expandido)  \n",
    "total_expandido"
   ]
  },
  {
   "cell_type": "code",
   "execution_count": 55,
   "id": "d0325627",
   "metadata": {},
   "outputs": [
    {
     "data": {
      "text/plain": [
       "311529"
      ]
     },
     "execution_count": 55,
     "metadata": {},
     "output_type": "execute_result"
    }
   ],
   "source": [
    "# Datos totales - eliminados\n",
    "313276-1747"
   ]
  },
  {
   "cell_type": "code",
   "execution_count": 56,
   "id": "3e556c8e",
   "metadata": {},
   "outputs": [
    {
     "data": {
      "text/plain": [
       "1247"
      ]
     },
     "execution_count": 56,
     "metadata": {},
     "output_type": "execute_result"
    }
   ],
   "source": [
    "# Validaciones que no se pudieron clasificar con factor de expansión\n",
    "311529-310282"
   ]
  },
  {
   "cell_type": "code",
   "execution_count": 57,
   "id": "addc50c0",
   "metadata": {},
   "outputs": [
    {
     "data": {
      "text/plain": [
       "115115"
      ]
     },
     "execution_count": 57,
     "metadata": {},
     "output_type": "execute_result"
    }
   ],
   "source": [
    "len(Otras)-1247"
   ]
  },
  {
   "cell_type": "code",
   "execution_count": 58,
   "id": "5b4781fc",
   "metadata": {},
   "outputs": [
    {
     "data": {
      "text/plain": [
       "99.04"
      ]
     },
     "execution_count": 58,
     "metadata": {},
     "output_type": "execute_result"
    }
   ],
   "source": [
    "round((310282/313276)*100,2)"
   ]
  },
  {
   "cell_type": "code",
   "execution_count": 59,
   "id": "fc2d7c6d",
   "metadata": {},
   "outputs": [
    {
     "data": {
      "text/plain": [
       "88.51"
      ]
     },
     "execution_count": 59,
     "metadata": {},
     "output_type": "execute_result"
    }
   ],
   "source": [
    "round((310282/350581)*100,2)"
   ]
  },
  {
   "cell_type": "markdown",
   "id": "f12b5b74",
   "metadata": {},
   "source": [
    "Notemos que después de usar el factor de expansion tenemos un total de 310282 validaciones con destinos inferidos. Lo que quiere decir que a pesar de usar el fator de expansión aun existen viajes que no podemos estimar. En primer lugar, 1747 validaciones las consideramos como errores al momento de marcar y por eso fueron eliminadas. Ahora, al usar el factor de expansion hay casos en donde en la franja horaria especificada y la parada de origen no se registra ninguna validacion y por lo tanto no se puede aplicar el factor, esto suma un valor de 1247 validaciones. \n",
    "\n",
    "En conclusión, estimamos la parada de descenso para el 99.04% de las validaciones de la base despues de la limpieza. Y de la base original sin la limpieza de los datos y con todas la validaciones en el día, hemos inferido el descenso para el 88.51% de las validaciones."
   ]
  },
  {
   "cell_type": "code",
   "execution_count": 60,
   "id": "a33118bf",
   "metadata": {},
   "outputs": [
    {
     "data": {
      "text/html": [
       "<div>\n",
       "<style scoped>\n",
       "    .dataframe tbody tr th:only-of-type {\n",
       "        vertical-align: middle;\n",
       "    }\n",
       "\n",
       "    .dataframe tbody tr th {\n",
       "        vertical-align: top;\n",
       "    }\n",
       "\n",
       "    .dataframe thead th {\n",
       "        text-align: right;\n",
       "    }\n",
       "</style>\n",
       "<table border=\"1\" class=\"dataframe\">\n",
       "  <thead>\n",
       "    <tr style=\"text-align: right;\">\n",
       "      <th></th>\n",
       "      <th>ParadaInicial</th>\n",
       "      <th>ParadaEstimDescenso</th>\n",
       "      <th>viajes_expandido</th>\n",
       "    </tr>\n",
       "  </thead>\n",
       "  <tbody>\n",
       "    <tr>\n",
       "      <th>19969</th>\n",
       "      <td>2789</td>\n",
       "      <td>4006</td>\n",
       "      <td>291.459948</td>\n",
       "    </tr>\n",
       "    <tr>\n",
       "      <th>12947</th>\n",
       "      <td>2189</td>\n",
       "      <td>2317</td>\n",
       "      <td>289.239266</td>\n",
       "    </tr>\n",
       "    <tr>\n",
       "      <th>31703</th>\n",
       "      <td>4499</td>\n",
       "      <td>2193</td>\n",
       "      <td>277.794783</td>\n",
       "    </tr>\n",
       "    <tr>\n",
       "      <th>20772</th>\n",
       "      <td>2848</td>\n",
       "      <td>1866</td>\n",
       "      <td>277.585079</td>\n",
       "    </tr>\n",
       "    <tr>\n",
       "      <th>12983</th>\n",
       "      <td>2189</td>\n",
       "      <td>3375</td>\n",
       "      <td>238.677487</td>\n",
       "    </tr>\n",
       "    <tr>\n",
       "      <th>...</th>\n",
       "      <td>...</td>\n",
       "      <td>...</td>\n",
       "      <td>...</td>\n",
       "    </tr>\n",
       "    <tr>\n",
       "      <th>9842</th>\n",
       "      <td>1901</td>\n",
       "      <td>2032</td>\n",
       "      <td>1.000000</td>\n",
       "    </tr>\n",
       "    <tr>\n",
       "      <th>9852</th>\n",
       "      <td>1914</td>\n",
       "      <td>1721</td>\n",
       "      <td>1.000000</td>\n",
       "    </tr>\n",
       "    <tr>\n",
       "      <th>9858</th>\n",
       "      <td>1914</td>\n",
       "      <td>4047</td>\n",
       "      <td>1.000000</td>\n",
       "    </tr>\n",
       "    <tr>\n",
       "      <th>28961</th>\n",
       "      <td>411</td>\n",
       "      <td>588</td>\n",
       "      <td>1.000000</td>\n",
       "    </tr>\n",
       "    <tr>\n",
       "      <th>31244</th>\n",
       "      <td>4423</td>\n",
       "      <td>51</td>\n",
       "      <td>1.000000</td>\n",
       "    </tr>\n",
       "  </tbody>\n",
       "</table>\n",
       "<p>37025 rows × 3 columns</p>\n",
       "</div>"
      ],
      "text/plain": [
       "      ParadaInicial  ParadaEstimDescenso  viajes_expandido\n",
       "19969          2789                 4006        291.459948\n",
       "12947          2189                 2317        289.239266\n",
       "31703          4499                 2193        277.794783\n",
       "20772          2848                 1866        277.585079\n",
       "12983          2189                 3375        238.677487\n",
       "...             ...                  ...               ...\n",
       "9842           1901                 2032          1.000000\n",
       "9852           1914                 1721          1.000000\n",
       "9858           1914                 4047          1.000000\n",
       "28961           411                  588          1.000000\n",
       "31244          4423                   51          1.000000\n",
       "\n",
       "[37025 rows x 3 columns]"
      ]
     },
     "execution_count": 60,
     "metadata": {},
     "output_type": "execute_result"
    }
   ],
   "source": [
    "viajes_inferidos_expand.groupby(\n",
    "    ['ParadaInicial', 'ParadaEstimDescenso'], as_index=False\n",
    ")['viajes_expandido'].sum().sort_values(\"viajes_expandido\", ascending=False)"
   ]
  },
  {
   "cell_type": "code",
   "execution_count": 61,
   "id": "8e1eb0ad",
   "metadata": {},
   "outputs": [
    {
     "data": {
      "text/html": [
       "<div>\n",
       "<style scoped>\n",
       "    .dataframe tbody tr th:only-of-type {\n",
       "        vertical-align: middle;\n",
       "    }\n",
       "\n",
       "    .dataframe tbody tr th {\n",
       "        vertical-align: top;\n",
       "    }\n",
       "\n",
       "    .dataframe thead th {\n",
       "        text-align: right;\n",
       "    }\n",
       "</style>\n",
       "<table border=\"1\" class=\"dataframe\">\n",
       "  <thead>\n",
       "    <tr style=\"text-align: right;\">\n",
       "      <th></th>\n",
       "      <th></th>\n",
       "      <th></th>\n",
       "      <th>Cantidad_validaciones</th>\n",
       "    </tr>\n",
       "    <tr>\n",
       "      <th>CodigoLinea</th>\n",
       "      <th>ParadaInicial</th>\n",
       "      <th>ParadaEstimDescenso</th>\n",
       "      <th></th>\n",
       "    </tr>\n",
       "  </thead>\n",
       "  <tbody>\n",
       "    <tr>\n",
       "      <th>1002</th>\n",
       "      <th>2848</th>\n",
       "      <th>1866.0</th>\n",
       "      <td>166</td>\n",
       "    </tr>\n",
       "    <tr>\n",
       "      <th>7004</th>\n",
       "      <th>2189</th>\n",
       "      <th>2317.0</th>\n",
       "      <td>163</td>\n",
       "    </tr>\n",
       "    <tr>\n",
       "      <th rowspan=\"2\" valign=\"top\">6006</th>\n",
       "      <th>4330</th>\n",
       "      <th>2096.0</th>\n",
       "      <td>144</td>\n",
       "    </tr>\n",
       "    <tr>\n",
       "      <th>2232</th>\n",
       "      <th>1954.0</th>\n",
       "      <td>133</td>\n",
       "    </tr>\n",
       "    <tr>\n",
       "      <th>7004</th>\n",
       "      <th>2189</th>\n",
       "      <th>3375.0</th>\n",
       "      <td>131</td>\n",
       "    </tr>\n",
       "    <tr>\n",
       "      <th>...</th>\n",
       "      <th>...</th>\n",
       "      <th>...</th>\n",
       "      <td>...</td>\n",
       "    </tr>\n",
       "    <tr>\n",
       "      <th rowspan=\"5\" valign=\"top\">9203</th>\n",
       "      <th rowspan=\"5\" valign=\"top\">4499</th>\n",
       "      <th>3099.0</th>\n",
       "      <td>1</td>\n",
       "    </tr>\n",
       "    <tr>\n",
       "      <th>3069.0</th>\n",
       "      <td>1</td>\n",
       "    </tr>\n",
       "    <tr>\n",
       "      <th>3034.0</th>\n",
       "      <td>1</td>\n",
       "    </tr>\n",
       "    <tr>\n",
       "      <th>2904.0</th>\n",
       "      <td>1</td>\n",
       "    </tr>\n",
       "    <tr>\n",
       "      <th>2752.0</th>\n",
       "      <td>1</td>\n",
       "    </tr>\n",
       "  </tbody>\n",
       "</table>\n",
       "<p>41283 rows × 1 columns</p>\n",
       "</div>"
      ],
      "text/plain": [
       "                                               Cantidad_validaciones\n",
       "CodigoLinea ParadaInicial ParadaEstimDescenso                       \n",
       "1002        2848          1866.0                                 166\n",
       "7004        2189          2317.0                                 163\n",
       "6006        4330          2096.0                                 144\n",
       "            2232          1954.0                                 133\n",
       "7004        2189          3375.0                                 131\n",
       "...                                                              ...\n",
       "9203        4499          3099.0                                   1\n",
       "                          3069.0                                   1\n",
       "                          3034.0                                   1\n",
       "                          2904.0                                   1\n",
       "                          2752.0                                   1\n",
       "\n",
       "[41283 rows x 1 columns]"
      ]
     },
     "execution_count": 61,
     "metadata": {},
     "output_type": "execute_result"
    }
   ],
   "source": [
    "# Número de usuarios para cada validación\n",
    "df = afc_25_inferencias.groupby([\"CodigoLinea\", \"ParadaInicial\", \"ParadaEstimDescenso\"]).count()\n",
    "df = df.rename(columns={'CodigoTarjeta': 'Cantidad_validaciones'})\n",
    "\n",
    "\n",
    "df = df[['Cantidad_validaciones']]\n",
    "df.sort_values('Cantidad_validaciones', ascending=False)"
   ]
  },
  {
   "cell_type": "code",
   "execution_count": 62,
   "id": "2214daeb",
   "metadata": {},
   "outputs": [
    {
     "data": {
      "text/html": [
       "<div>\n",
       "<style scoped>\n",
       "    .dataframe tbody tr th:only-of-type {\n",
       "        vertical-align: middle;\n",
       "    }\n",
       "\n",
       "    .dataframe tbody tr th {\n",
       "        vertical-align: top;\n",
       "    }\n",
       "\n",
       "    .dataframe thead th {\n",
       "        text-align: right;\n",
       "    }\n",
       "</style>\n",
       "<table border=\"1\" class=\"dataframe\">\n",
       "  <thead>\n",
       "    <tr style=\"text-align: right;\">\n",
       "      <th></th>\n",
       "      <th>viajes_expandido</th>\n",
       "    </tr>\n",
       "    <tr>\n",
       "      <th>ParadaInicial</th>\n",
       "      <th></th>\n",
       "    </tr>\n",
       "  </thead>\n",
       "  <tbody>\n",
       "    <tr>\n",
       "      <th>4499</th>\n",
       "      <td>5067.0</td>\n",
       "    </tr>\n",
       "    <tr>\n",
       "      <th>2484</th>\n",
       "      <td>4451.0</td>\n",
       "    </tr>\n",
       "    <tr>\n",
       "      <th>2317</th>\n",
       "      <td>4102.0</td>\n",
       "    </tr>\n",
       "    <tr>\n",
       "      <th>1701</th>\n",
       "      <td>3772.0</td>\n",
       "    </tr>\n",
       "    <tr>\n",
       "      <th>4330</th>\n",
       "      <td>3044.0</td>\n",
       "    </tr>\n",
       "    <tr>\n",
       "      <th>2255</th>\n",
       "      <td>2778.0</td>\n",
       "    </tr>\n",
       "    <tr>\n",
       "      <th>2019</th>\n",
       "      <td>2461.0</td>\n",
       "    </tr>\n",
       "    <tr>\n",
       "      <th>4367</th>\n",
       "      <td>2447.0</td>\n",
       "    </tr>\n",
       "    <tr>\n",
       "      <th>1772</th>\n",
       "      <td>2141.0</td>\n",
       "    </tr>\n",
       "    <tr>\n",
       "      <th>1676</th>\n",
       "      <td>1989.0</td>\n",
       "    </tr>\n",
       "  </tbody>\n",
       "</table>\n",
       "</div>"
      ],
      "text/plain": [
       "               viajes_expandido\n",
       "ParadaInicial                  \n",
       "4499                     5067.0\n",
       "2484                     4451.0\n",
       "2317                     4102.0\n",
       "1701                     3772.0\n",
       "4330                     3044.0\n",
       "2255                     2778.0\n",
       "2019                     2461.0\n",
       "4367                     2447.0\n",
       "1772                     2141.0\n",
       "1676                     1989.0"
      ]
     },
     "execution_count": 62,
     "metadata": {},
     "output_type": "execute_result"
    }
   ],
   "source": [
    "d1 = viajes_inferidos_expand.groupby([\"ParadaInicial\"]).sum()\n",
    "d1 = d1[[\"viajes_expandido\"]]\n",
    "d1.sort_values(\"viajes_expandido\", ascending=False).head(10)"
   ]
  },
  {
   "cell_type": "code",
   "execution_count": 63,
   "id": "6a1af734",
   "metadata": {},
   "outputs": [
    {
     "data": {
      "text/html": [
       "<div>\n",
       "<style scoped>\n",
       "    .dataframe tbody tr th:only-of-type {\n",
       "        vertical-align: middle;\n",
       "    }\n",
       "\n",
       "    .dataframe tbody tr th {\n",
       "        vertical-align: top;\n",
       "    }\n",
       "\n",
       "    .dataframe thead th {\n",
       "        text-align: right;\n",
       "    }\n",
       "</style>\n",
       "<table border=\"1\" class=\"dataframe\">\n",
       "  <thead>\n",
       "    <tr style=\"text-align: right;\">\n",
       "      <th></th>\n",
       "      <th>viajes_expandido</th>\n",
       "    </tr>\n",
       "    <tr>\n",
       "      <th>ParadaEstimDescenso</th>\n",
       "      <th></th>\n",
       "    </tr>\n",
       "  </thead>\n",
       "  <tbody>\n",
       "    <tr>\n",
       "      <th>1921</th>\n",
       "      <td>3745.0</td>\n",
       "    </tr>\n",
       "    <tr>\n",
       "      <th>2484</th>\n",
       "      <td>3656.0</td>\n",
       "    </tr>\n",
       "    <tr>\n",
       "      <th>4499</th>\n",
       "      <td>3223.0</td>\n",
       "    </tr>\n",
       "    <tr>\n",
       "      <th>1772</th>\n",
       "      <td>3071.0</td>\n",
       "    </tr>\n",
       "    <tr>\n",
       "      <th>2317</th>\n",
       "      <td>3017.0</td>\n",
       "    </tr>\n",
       "    <tr>\n",
       "      <th>1701</th>\n",
       "      <td>2654.0</td>\n",
       "    </tr>\n",
       "    <tr>\n",
       "      <th>4330</th>\n",
       "      <td>2468.0</td>\n",
       "    </tr>\n",
       "    <tr>\n",
       "      <th>1819</th>\n",
       "      <td>2391.0</td>\n",
       "    </tr>\n",
       "    <tr>\n",
       "      <th>2193</th>\n",
       "      <td>2372.0</td>\n",
       "    </tr>\n",
       "    <tr>\n",
       "      <th>1624</th>\n",
       "      <td>2046.0</td>\n",
       "    </tr>\n",
       "  </tbody>\n",
       "</table>\n",
       "</div>"
      ],
      "text/plain": [
       "                     viajes_expandido\n",
       "ParadaEstimDescenso                  \n",
       "1921                           3745.0\n",
       "2484                           3656.0\n",
       "4499                           3223.0\n",
       "1772                           3071.0\n",
       "2317                           3017.0\n",
       "1701                           2654.0\n",
       "4330                           2468.0\n",
       "1819                           2391.0\n",
       "2193                           2372.0\n",
       "1624                           2046.0"
      ]
     },
     "execution_count": 63,
     "metadata": {},
     "output_type": "execute_result"
    }
   ],
   "source": [
    "d1 = viajes_inferidos_expand.groupby([\"ParadaEstimDescenso\"]).sum()\n",
    "d1 = d1[[\"viajes_expandido\"]]\n",
    "d1.sort_values(\"viajes_expandido\", ascending=False).head(10).round(0)"
   ]
  }
 ],
 "metadata": {
  "kernelspec": {
   "display_name": "venv",
   "language": "python",
   "name": "python3"
  },
  "language_info": {
   "codemirror_mode": {
    "name": "ipython",
    "version": 3
   },
   "file_extension": ".py",
   "mimetype": "text/x-python",
   "name": "python",
   "nbconvert_exporter": "python",
   "pygments_lexer": "ipython3",
   "version": "3.13.3"
  }
 },
 "nbformat": 4,
 "nbformat_minor": 5
}
